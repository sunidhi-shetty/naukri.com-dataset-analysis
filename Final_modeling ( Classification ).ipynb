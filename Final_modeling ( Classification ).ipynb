{
 "cells": [
  {
   "cell_type": "code",
   "execution_count": 1,
   "id": "f282309d",
   "metadata": {},
   "outputs": [],
   "source": [
    "import pandas as pd\n",
    "import numpy as np\n",
    "import nltk\n",
    "import string as s\n",
    "from nltk.corpus import stopwords\n",
    "import matplotlib.pyplot as plt\n",
    "import seaborn as sns\n",
    "import warnings\n",
    "warnings.filterwarnings('ignore')\n",
    "%matplotlib inline\n",
    "import seaborn as sns\n",
    "import re\n",
    "import os\n",
    "from sklearn.model_selection import train_test_split,GridSearchCV\n",
    "from sklearn.linear_model import LogisticRegression\n",
    "from sklearn.ensemble import RandomForestClassifier,AdaBoostClassifier,GradientBoostingClassifier\n",
    "from sklearn.svm import SVC\n",
    "from sklearn.tree import DecisionTreeClassifier,plot_tree\n",
    "from xgboost import XGBClassifier\n",
    "from lightgbm import LGBMClassifier\n",
    "from sklearn.neighbors import KNeighborsClassifier\n",
    "from sklearn.naive_bayes import GaussianNB,MultinomialNB\n",
    "from sklearn.metrics import accuracy_score,recall_score,precision_score,confusion_matrix,classification_report,roc_auc_score,roc_curve\n",
    "from sklearn.preprocessing import StandardScaler,LabelEncoder\n",
    "import warnings\n",
    "warnings.filterwarnings('ignore')"
   ]
  },
  {
   "cell_type": "code",
   "execution_count": 2,
   "id": "1d22a74c",
   "metadata": {},
   "outputs": [
    {
     "name": "stderr",
     "output_type": "stream",
     "text": [
      "[nltk_data] Downloading package stopwords to\n",
      "[nltk_data]     C:\\Users\\Sunidhi\\AppData\\Roaming\\nltk_data...\n",
      "[nltk_data]   Package stopwords is already up-to-date!\n"
     ]
    },
    {
     "data": {
      "text/plain": [
       "True"
      ]
     },
     "execution_count": 2,
     "metadata": {},
     "output_type": "execute_result"
    }
   ],
   "source": [
    "import nltk\n",
    "nltk.download('stopwords')"
   ]
  },
  {
   "cell_type": "code",
   "execution_count": 3,
   "id": "72eab117",
   "metadata": {},
   "outputs": [
    {
     "name": "stderr",
     "output_type": "stream",
     "text": [
      "[nltk_data] Downloading package omw-1.4 to\n",
      "[nltk_data]     C:\\Users\\Sunidhi\\AppData\\Roaming\\nltk_data...\n",
      "[nltk_data]   Package omw-1.4 is already up-to-date!\n"
     ]
    },
    {
     "data": {
      "text/plain": [
       "True"
      ]
     },
     "execution_count": 3,
     "metadata": {},
     "output_type": "execute_result"
    }
   ],
   "source": [
    "nltk.download('omw-1.4')"
   ]
  },
  {
   "cell_type": "code",
   "execution_count": 4,
   "id": "1a98c0d0",
   "metadata": {},
   "outputs": [
    {
     "data": {
      "text/html": [
       "<div>\n",
       "<style scoped>\n",
       "    .dataframe tbody tr th:only-of-type {\n",
       "        vertical-align: middle;\n",
       "    }\n",
       "\n",
       "    .dataframe tbody tr th {\n",
       "        vertical-align: top;\n",
       "    }\n",
       "\n",
       "    .dataframe thead th {\n",
       "        text-align: right;\n",
       "    }\n",
       "</style>\n",
       "<table border=\"1\" class=\"dataframe\">\n",
       "  <thead>\n",
       "    <tr style=\"text-align: right;\">\n",
       "      <th></th>\n",
       "      <th>Unnamed: 0</th>\n",
       "      <th>Job_Title</th>\n",
       "      <th>Key_Skills</th>\n",
       "      <th>Location1</th>\n",
       "      <th>Functional_Area_merged</th>\n",
       "      <th>Job_Experience</th>\n",
       "      <th>Job_Salary</th>\n",
       "    </tr>\n",
       "  </thead>\n",
       "  <tbody>\n",
       "    <tr>\n",
       "      <th>0</th>\n",
       "      <td>3</td>\n",
       "      <td>Technical Support</td>\n",
       "      <td>Technical Support</td>\n",
       "      <td>Mumbai</td>\n",
       "      <td>Admin,Maintenance,Security,Datawarehousing,IT ...</td>\n",
       "      <td>1 - 5</td>\n",
       "      <td>1 - 5</td>\n",
       "    </tr>\n",
       "    <tr>\n",
       "      <th>1</th>\n",
       "      <td>6</td>\n",
       "      <td>Sales- Fresher-for Leading Property Consultant</td>\n",
       "      <td>channel partners, real estate, negotiation, p...</td>\n",
       "      <td>Bengaluru</td>\n",
       "      <td>Retail Sales,Sales , Retail , Business Develop...</td>\n",
       "      <td>1 - 5</td>\n",
       "      <td>1 - 5</td>\n",
       "    </tr>\n",
       "    <tr>\n",
       "      <th>2</th>\n",
       "      <td>14</td>\n",
       "      <td>Looking Facebook ,social Media Manager For ou...</td>\n",
       "      <td>digital marketing, seo, social media marketin...</td>\n",
       "      <td>Gurgaon</td>\n",
       "      <td>Online,Digital Marketing,Marketing , Advertisi...</td>\n",
       "      <td>1 - 5</td>\n",
       "      <td>1 - 5</td>\n",
       "    </tr>\n",
       "    <tr>\n",
       "      <th>3</th>\n",
       "      <td>21</td>\n",
       "      <td>Business Development , Corporate Sales</td>\n",
       "      <td>lead generation, business development, corpor...</td>\n",
       "      <td>Delhi NCR</td>\n",
       "      <td>Retail Sales,Sales , Retail , Business Develop...</td>\n",
       "      <td>1 - 5</td>\n",
       "      <td>1 - 5</td>\n",
       "    </tr>\n",
       "    <tr>\n",
       "      <th>4</th>\n",
       "      <td>23</td>\n",
       "      <td>QA Executive</td>\n",
       "      <td>QA Executive</td>\n",
       "      <td>Hyderabad</td>\n",
       "      <td>QA,Testing,Documentation,IT Software - QA &amp; Te...</td>\n",
       "      <td>1 - 5</td>\n",
       "      <td>1 - 5</td>\n",
       "    </tr>\n",
       "    <tr>\n",
       "      <th>...</th>\n",
       "      <td>...</td>\n",
       "      <td>...</td>\n",
       "      <td>...</td>\n",
       "      <td>...</td>\n",
       "      <td>...</td>\n",
       "      <td>...</td>\n",
       "      <td>...</td>\n",
       "    </tr>\n",
       "    <tr>\n",
       "      <th>6766</th>\n",
       "      <td>392</td>\n",
       "      <td>VP , Sr.vp Fire</td>\n",
       "      <td>Fire Safety, fire, Senior Management</td>\n",
       "      <td>Delhi NCR</td>\n",
       "      <td>Safety,Health,Environment,Production , Manufac...</td>\n",
       "      <td>20 - 25</td>\n",
       "      <td>50 - 100</td>\n",
       "    </tr>\n",
       "    <tr>\n",
       "      <th>6767</th>\n",
       "      <td>4917</td>\n",
       "      <td>Vice President - Marketing Startegies</td>\n",
       "      <td>Life Cycle, Portfolio Management, New Product...</td>\n",
       "      <td>Mumbai</td>\n",
       "      <td>Senior Management,Marketing , Advertising , MR...</td>\n",
       "      <td>20 - 25</td>\n",
       "      <td>50 - 100</td>\n",
       "    </tr>\n",
       "    <tr>\n",
       "      <th>6768</th>\n",
       "      <td>9109</td>\n",
       "      <td>VP Finance</td>\n",
       "      <td>financial institution, mis, income tax, conso...</td>\n",
       "      <td>Gurgaon</td>\n",
       "      <td>Senior Management,Accounts , Finance , Tax , C...</td>\n",
       "      <td>20 - 25</td>\n",
       "      <td>50 - 100</td>\n",
       "    </tr>\n",
       "    <tr>\n",
       "      <th>6769</th>\n",
       "      <td>10908</td>\n",
       "      <td>Product Architect</td>\n",
       "      <td>Product Development, Design Development, Indu...</td>\n",
       "      <td>Delhi NCR,Gurgaon</td>\n",
       "      <td>Telecom,IT Hardware , Technical Support , Tele...</td>\n",
       "      <td>20 - 25</td>\n",
       "      <td>50 - 100</td>\n",
       "    </tr>\n",
       "    <tr>\n",
       "      <th>6770</th>\n",
       "      <td>11818</td>\n",
       "      <td>Job Assignment- Group Company Secretary &amp;amp;...</td>\n",
       "      <td>Company Secretary, Legal, Secretarial Activities</td>\n",
       "      <td>Delhi NCR</td>\n",
       "      <td>Senior Management,Accounts , Finance , Tax , C...</td>\n",
       "      <td>20 - 25</td>\n",
       "      <td>50 - 100</td>\n",
       "    </tr>\n",
       "  </tbody>\n",
       "</table>\n",
       "<p>6771 rows × 7 columns</p>\n",
       "</div>"
      ],
      "text/plain": [
       "      Unnamed: 0                                          Job_Title  \\\n",
       "0              3                                  Technical Support   \n",
       "1              6     Sales- Fresher-for Leading Property Consultant   \n",
       "2             14   Looking Facebook ,social Media Manager For ou...   \n",
       "3             21             Business Development , Corporate Sales   \n",
       "4             23                                       QA Executive   \n",
       "...          ...                                                ...   \n",
       "6766         392                                    VP , Sr.vp Fire   \n",
       "6767        4917              Vice President - Marketing Startegies   \n",
       "6768        9109                                         VP Finance   \n",
       "6769       10908                                  Product Architect   \n",
       "6770       11818   Job Assignment- Group Company Secretary &amp;...   \n",
       "\n",
       "                                             Key_Skills          Location1  \\\n",
       "0                                     Technical Support             Mumbai   \n",
       "1      channel partners, real estate, negotiation, p...          Bengaluru   \n",
       "2      digital marketing, seo, social media marketin...            Gurgaon   \n",
       "3      lead generation, business development, corpor...          Delhi NCR   \n",
       "4                                          QA Executive          Hyderabad   \n",
       "...                                                 ...                ...   \n",
       "6766               Fire Safety, fire, Senior Management          Delhi NCR   \n",
       "6767   Life Cycle, Portfolio Management, New Product...             Mumbai   \n",
       "6768   financial institution, mis, income tax, conso...            Gurgaon   \n",
       "6769   Product Development, Design Development, Indu...  Delhi NCR,Gurgaon   \n",
       "6770   Company Secretary, Legal, Secretarial Activities          Delhi NCR   \n",
       "\n",
       "                                 Functional_Area_merged Job_Experience  \\\n",
       "0     Admin,Maintenance,Security,Datawarehousing,IT ...          1 - 5   \n",
       "1     Retail Sales,Sales , Retail , Business Develop...          1 - 5   \n",
       "2     Online,Digital Marketing,Marketing , Advertisi...          1 - 5   \n",
       "3     Retail Sales,Sales , Retail , Business Develop...          1 - 5   \n",
       "4     QA,Testing,Documentation,IT Software - QA & Te...          1 - 5   \n",
       "...                                                 ...            ...   \n",
       "6766  Safety,Health,Environment,Production , Manufac...        20 - 25   \n",
       "6767  Senior Management,Marketing , Advertising , MR...        20 - 25   \n",
       "6768  Senior Management,Accounts , Finance , Tax , C...        20 - 25   \n",
       "6769  Telecom,IT Hardware , Technical Support , Tele...        20 - 25   \n",
       "6770  Senior Management,Accounts , Finance , Tax , C...        20 - 25   \n",
       "\n",
       "     Job_Salary  \n",
       "0         1 - 5  \n",
       "1         1 - 5  \n",
       "2         1 - 5  \n",
       "3         1 - 5  \n",
       "4         1 - 5  \n",
       "...         ...  \n",
       "6766   50 - 100  \n",
       "6767   50 - 100  \n",
       "6768   50 - 100  \n",
       "6769   50 - 100  \n",
       "6770   50 - 100  \n",
       "\n",
       "[6771 rows x 7 columns]"
      ]
     },
     "execution_count": 4,
     "metadata": {},
     "output_type": "execute_result"
    }
   ],
   "source": [
    "df = pd.read_csv('cleaned_dataset(range).csv')\n",
    "df"
   ]
  },
  {
   "cell_type": "code",
   "execution_count": 5,
   "id": "ab3cd9c6",
   "metadata": {},
   "outputs": [
    {
     "data": {
      "text/plain": [
       "1 - 5       4178\n",
       "5 - 10      1368\n",
       "10 - 25     1080\n",
       "25 - 50      125\n",
       "50 - 100      20\n",
       "Name: Job_Salary, dtype: int64"
      ]
     },
     "execution_count": 5,
     "metadata": {},
     "output_type": "execute_result"
    }
   ],
   "source": [
    "df['Job_Salary'].value_counts()"
   ]
  },
  {
   "cell_type": "code",
   "execution_count": 6,
   "id": "a7d2e917",
   "metadata": {},
   "outputs": [],
   "source": [
    "le = LabelEncoder()\n",
    "df['Job_Salary'] = le.fit_transform(df['Job_Salary'])\n",
    "df['Job_Experience'] = le.fit_transform(df['Job_Experience'])"
   ]
  },
  {
   "cell_type": "code",
   "execution_count": 7,
   "id": "c241625d",
   "metadata": {},
   "outputs": [
    {
     "data": {
      "text/html": [
       "<div>\n",
       "<style scoped>\n",
       "    .dataframe tbody tr th:only-of-type {\n",
       "        vertical-align: middle;\n",
       "    }\n",
       "\n",
       "    .dataframe tbody tr th {\n",
       "        vertical-align: top;\n",
       "    }\n",
       "\n",
       "    .dataframe thead th {\n",
       "        text-align: right;\n",
       "    }\n",
       "</style>\n",
       "<table border=\"1\" class=\"dataframe\">\n",
       "  <thead>\n",
       "    <tr style=\"text-align: right;\">\n",
       "      <th></th>\n",
       "      <th>Unnamed: 0</th>\n",
       "      <th>Job_Title</th>\n",
       "      <th>Key_Skills</th>\n",
       "      <th>Location1</th>\n",
       "      <th>Functional_Area_merged</th>\n",
       "      <th>Job_Experience</th>\n",
       "      <th>Job_Salary</th>\n",
       "    </tr>\n",
       "  </thead>\n",
       "  <tbody>\n",
       "    <tr>\n",
       "      <th>0</th>\n",
       "      <td>3</td>\n",
       "      <td>Technical Support</td>\n",
       "      <td>Technical Support</td>\n",
       "      <td>Mumbai</td>\n",
       "      <td>Admin,Maintenance,Security,Datawarehousing,IT ...</td>\n",
       "      <td>0</td>\n",
       "      <td>0</td>\n",
       "    </tr>\n",
       "    <tr>\n",
       "      <th>1</th>\n",
       "      <td>6</td>\n",
       "      <td>Sales- Fresher-for Leading Property Consultant</td>\n",
       "      <td>channel partners, real estate, negotiation, p...</td>\n",
       "      <td>Bengaluru</td>\n",
       "      <td>Retail Sales,Sales , Retail , Business Develop...</td>\n",
       "      <td>0</td>\n",
       "      <td>0</td>\n",
       "    </tr>\n",
       "    <tr>\n",
       "      <th>2</th>\n",
       "      <td>14</td>\n",
       "      <td>Looking Facebook ,social Media Manager For ou...</td>\n",
       "      <td>digital marketing, seo, social media marketin...</td>\n",
       "      <td>Gurgaon</td>\n",
       "      <td>Online,Digital Marketing,Marketing , Advertisi...</td>\n",
       "      <td>0</td>\n",
       "      <td>0</td>\n",
       "    </tr>\n",
       "    <tr>\n",
       "      <th>3</th>\n",
       "      <td>21</td>\n",
       "      <td>Business Development , Corporate Sales</td>\n",
       "      <td>lead generation, business development, corpor...</td>\n",
       "      <td>Delhi NCR</td>\n",
       "      <td>Retail Sales,Sales , Retail , Business Develop...</td>\n",
       "      <td>0</td>\n",
       "      <td>0</td>\n",
       "    </tr>\n",
       "    <tr>\n",
       "      <th>4</th>\n",
       "      <td>23</td>\n",
       "      <td>QA Executive</td>\n",
       "      <td>QA Executive</td>\n",
       "      <td>Hyderabad</td>\n",
       "      <td>QA,Testing,Documentation,IT Software - QA &amp; Te...</td>\n",
       "      <td>0</td>\n",
       "      <td>0</td>\n",
       "    </tr>\n",
       "    <tr>\n",
       "      <th>...</th>\n",
       "      <td>...</td>\n",
       "      <td>...</td>\n",
       "      <td>...</td>\n",
       "      <td>...</td>\n",
       "      <td>...</td>\n",
       "      <td>...</td>\n",
       "      <td>...</td>\n",
       "    </tr>\n",
       "    <tr>\n",
       "      <th>6766</th>\n",
       "      <td>392</td>\n",
       "      <td>VP , Sr.vp Fire</td>\n",
       "      <td>Fire Safety, fire, Senior Management</td>\n",
       "      <td>Delhi NCR</td>\n",
       "      <td>Safety,Health,Environment,Production , Manufac...</td>\n",
       "      <td>3</td>\n",
       "      <td>4</td>\n",
       "    </tr>\n",
       "    <tr>\n",
       "      <th>6767</th>\n",
       "      <td>4917</td>\n",
       "      <td>Vice President - Marketing Startegies</td>\n",
       "      <td>Life Cycle, Portfolio Management, New Product...</td>\n",
       "      <td>Mumbai</td>\n",
       "      <td>Senior Management,Marketing , Advertising , MR...</td>\n",
       "      <td>3</td>\n",
       "      <td>4</td>\n",
       "    </tr>\n",
       "    <tr>\n",
       "      <th>6768</th>\n",
       "      <td>9109</td>\n",
       "      <td>VP Finance</td>\n",
       "      <td>financial institution, mis, income tax, conso...</td>\n",
       "      <td>Gurgaon</td>\n",
       "      <td>Senior Management,Accounts , Finance , Tax , C...</td>\n",
       "      <td>3</td>\n",
       "      <td>4</td>\n",
       "    </tr>\n",
       "    <tr>\n",
       "      <th>6769</th>\n",
       "      <td>10908</td>\n",
       "      <td>Product Architect</td>\n",
       "      <td>Product Development, Design Development, Indu...</td>\n",
       "      <td>Delhi NCR,Gurgaon</td>\n",
       "      <td>Telecom,IT Hardware , Technical Support , Tele...</td>\n",
       "      <td>3</td>\n",
       "      <td>4</td>\n",
       "    </tr>\n",
       "    <tr>\n",
       "      <th>6770</th>\n",
       "      <td>11818</td>\n",
       "      <td>Job Assignment- Group Company Secretary &amp;amp;...</td>\n",
       "      <td>Company Secretary, Legal, Secretarial Activities</td>\n",
       "      <td>Delhi NCR</td>\n",
       "      <td>Senior Management,Accounts , Finance , Tax , C...</td>\n",
       "      <td>3</td>\n",
       "      <td>4</td>\n",
       "    </tr>\n",
       "  </tbody>\n",
       "</table>\n",
       "<p>6771 rows × 7 columns</p>\n",
       "</div>"
      ],
      "text/plain": [
       "      Unnamed: 0                                          Job_Title  \\\n",
       "0              3                                  Technical Support   \n",
       "1              6     Sales- Fresher-for Leading Property Consultant   \n",
       "2             14   Looking Facebook ,social Media Manager For ou...   \n",
       "3             21             Business Development , Corporate Sales   \n",
       "4             23                                       QA Executive   \n",
       "...          ...                                                ...   \n",
       "6766         392                                    VP , Sr.vp Fire   \n",
       "6767        4917              Vice President - Marketing Startegies   \n",
       "6768        9109                                         VP Finance   \n",
       "6769       10908                                  Product Architect   \n",
       "6770       11818   Job Assignment- Group Company Secretary &amp;...   \n",
       "\n",
       "                                             Key_Skills          Location1  \\\n",
       "0                                     Technical Support             Mumbai   \n",
       "1      channel partners, real estate, negotiation, p...          Bengaluru   \n",
       "2      digital marketing, seo, social media marketin...            Gurgaon   \n",
       "3      lead generation, business development, corpor...          Delhi NCR   \n",
       "4                                          QA Executive          Hyderabad   \n",
       "...                                                 ...                ...   \n",
       "6766               Fire Safety, fire, Senior Management          Delhi NCR   \n",
       "6767   Life Cycle, Portfolio Management, New Product...             Mumbai   \n",
       "6768   financial institution, mis, income tax, conso...            Gurgaon   \n",
       "6769   Product Development, Design Development, Indu...  Delhi NCR,Gurgaon   \n",
       "6770   Company Secretary, Legal, Secretarial Activities          Delhi NCR   \n",
       "\n",
       "                                 Functional_Area_merged  Job_Experience  \\\n",
       "0     Admin,Maintenance,Security,Datawarehousing,IT ...               0   \n",
       "1     Retail Sales,Sales , Retail , Business Develop...               0   \n",
       "2     Online,Digital Marketing,Marketing , Advertisi...               0   \n",
       "3     Retail Sales,Sales , Retail , Business Develop...               0   \n",
       "4     QA,Testing,Documentation,IT Software - QA & Te...               0   \n",
       "...                                                 ...             ...   \n",
       "6766  Safety,Health,Environment,Production , Manufac...               3   \n",
       "6767  Senior Management,Marketing , Advertising , MR...               3   \n",
       "6768  Senior Management,Accounts , Finance , Tax , C...               3   \n",
       "6769  Telecom,IT Hardware , Technical Support , Tele...               3   \n",
       "6770  Senior Management,Accounts , Finance , Tax , C...               3   \n",
       "\n",
       "      Job_Salary  \n",
       "0              0  \n",
       "1              0  \n",
       "2              0  \n",
       "3              0  \n",
       "4              0  \n",
       "...          ...  \n",
       "6766           4  \n",
       "6767           4  \n",
       "6768           4  \n",
       "6769           4  \n",
       "6770           4  \n",
       "\n",
       "[6771 rows x 7 columns]"
      ]
     },
     "execution_count": 7,
     "metadata": {},
     "output_type": "execute_result"
    }
   ],
   "source": [
    "df"
   ]
  },
  {
   "cell_type": "code",
   "execution_count": 8,
   "id": "2d8eefc5",
   "metadata": {},
   "outputs": [
    {
     "data": {
      "text/plain": [
       "0    4178\n",
       "3    1368\n",
       "1    1080\n",
       "2     125\n",
       "4      20\n",
       "Name: Job_Salary, dtype: int64"
      ]
     },
     "execution_count": 8,
     "metadata": {},
     "output_type": "execute_result"
    }
   ],
   "source": [
    "df['Job_Salary'].value_counts()"
   ]
  },
  {
   "cell_type": "code",
   "execution_count": 9,
   "id": "a9ef0a67",
   "metadata": {},
   "outputs": [
    {
     "data": {
      "image/png": "[encoded data removed]",
      "text/plain": [
       "<Figure size 720x576 with 1 Axes>"
      ]
     },
     "metadata": {},
     "output_type": "display_data"
    }
   ],
   "source": [
    "plt.figure(figsize=(10,8))\n",
    "plt.pie(x=df['Job_Salary'].value_counts(),labels=[\"1 - 5\",\"10 - 25\",\"25 - 50\",\"5 - 10\",\"50 - 100\"])\n",
    "plt.show()"
   ]
  },
  {
   "cell_type": "code",
   "execution_count": 10,
   "id": "a1ee9406",
   "metadata": {},
   "outputs": [
    {
     "name": "stdout",
     "output_type": "stream",
     "text": [
      "class_0  : (4178, 7)\n",
      "class_1  : (1080, 7)\n",
      "class_2  : (125, 7)\n",
      "class_3  : (1368, 7)\n",
      "class_4  : (20, 7)\n"
     ]
    }
   ],
   "source": [
    "\n",
    "class_0  = df[df['Job_Salary']==0]\n",
    "class_1   = df[df['Job_Salary']==1]\n",
    "class_2  = df[df['Job_Salary']==2]\n",
    "class_3   = df[df['Job_Salary']==3]\n",
    "class_4  = df[df['Job_Salary']==4]\n",
    "\n",
    "print('class_0  :',class_0.shape)\n",
    "print('class_1  :',class_1.shape)\n",
    "print('class_2  :',class_2.shape)\n",
    "print('class_3  :',class_3.shape)\n",
    "print('class_4  :',class_4.shape)\n"
   ]
  },
  {
   "cell_type": "code",
   "execution_count": 11,
   "id": "142c842e",
   "metadata": {},
   "outputs": [],
   "source": [
    "class_1_over = class_1.sample(n=4178,random_state=15,replace=True)\n",
    "class_2_over = class_2.sample(n=4178,random_state=15,replace=True)\n",
    "class_3_over = class_3.sample(n=4178,random_state=15,replace=True)\n",
    "class_4_over = class_4.sample(n=4178,random_state=15,replace=True)\n",
    "final_data = pd.concat([class_1_over,class_2_over,class_3_over,class_4_over,class_0],axis=0)"
   ]
  },
  {
   "cell_type": "code",
   "execution_count": 12,
   "id": "128b942e",
   "metadata": {},
   "outputs": [],
   "source": [
    "df = final_data.drop([\"Unnamed: 0\"],axis =1)"
   ]
  },
  {
   "cell_type": "code",
   "execution_count": 13,
   "id": "d1e8e7ed",
   "metadata": {},
   "outputs": [
    {
     "data": {
      "text/html": [
       "<div>\n",
       "<style scoped>\n",
       "    .dataframe tbody tr th:only-of-type {\n",
       "        vertical-align: middle;\n",
       "    }\n",
       "\n",
       "    .dataframe tbody tr th {\n",
       "        vertical-align: top;\n",
       "    }\n",
       "\n",
       "    .dataframe thead th {\n",
       "        text-align: right;\n",
       "    }\n",
       "</style>\n",
       "<table border=\"1\" class=\"dataframe\">\n",
       "  <thead>\n",
       "    <tr style=\"text-align: right;\">\n",
       "      <th></th>\n",
       "      <th>Job_Title</th>\n",
       "      <th>Key_Skills</th>\n",
       "      <th>Location1</th>\n",
       "      <th>Functional_Area_merged</th>\n",
       "      <th>Job_Experience</th>\n",
       "      <th>Job_Salary</th>\n",
       "    </tr>\n",
       "  </thead>\n",
       "  <tbody>\n",
       "    <tr>\n",
       "      <th>6191</th>\n",
       "      <td>Manager Process Planning</td>\n",
       "      <td>surface treatment, Method Engineering, Machin...</td>\n",
       "      <td>Mumbai</td>\n",
       "      <td>Production,Manufacturing,Maintenance,Productio...</td>\n",
       "      <td>5</td>\n",
       "      <td>1</td>\n",
       "    </tr>\n",
       "    <tr>\n",
       "      <th>5930</th>\n",
       "      <td>Technical Application Support (with SQL &amp; Java)</td>\n",
       "      <td>Java, Stored Procedures, Technical Support, A...</td>\n",
       "      <td>Bengaluru</td>\n",
       "      <td>Admin,Maintenance,Security,Datawarehousing,IT ...</td>\n",
       "      <td>5</td>\n",
       "      <td>1</td>\n",
       "    </tr>\n",
       "    <tr>\n",
       "      <th>5702</th>\n",
       "      <td>Senior Associate- Merger and Accquisition-tax...</td>\n",
       "      <td>ACQUISITION, taxation, MERGER</td>\n",
       "      <td>Gurgaon</td>\n",
       "      <td>Senior Management,Accounts , Finance , Tax , C...</td>\n",
       "      <td>5</td>\n",
       "      <td>1</td>\n",
       "    </tr>\n",
       "    <tr>\n",
       "      <th>6213</th>\n",
       "      <td>Commercial Manager</td>\n",
       "      <td>commercial management</td>\n",
       "      <td>Chennai</td>\n",
       "      <td>Purchase,Material Management,Purchase , Logist...</td>\n",
       "      <td>5</td>\n",
       "      <td>1</td>\n",
       "    </tr>\n",
       "    <tr>\n",
       "      <th>5631</th>\n",
       "      <td>Company Secretary For Pitampura</td>\n",
       "      <td>Company Secretary, Secretarial Activities, Ch...</td>\n",
       "      <td>Delhi NCR</td>\n",
       "      <td>Senior Management,Accounts , Finance , Tax , C...</td>\n",
       "      <td>0</td>\n",
       "      <td>1</td>\n",
       "    </tr>\n",
       "    <tr>\n",
       "      <th>...</th>\n",
       "      <td>...</td>\n",
       "      <td>...</td>\n",
       "      <td>...</td>\n",
       "      <td>...</td>\n",
       "      <td>...</td>\n",
       "      <td>...</td>\n",
       "    </tr>\n",
       "    <tr>\n",
       "      <th>4173</th>\n",
       "      <td>Business Development Manager &amp; BDO - All Indi...</td>\n",
       "      <td>area manager, Sales &amp; Distribution, business ...</td>\n",
       "      <td>Delhi NCR,Bengaluru,Ludhiana</td>\n",
       "      <td>Channel Sales,Sales , Retail , Business Develo...</td>\n",
       "      <td>2</td>\n",
       "      <td>0</td>\n",
       "    </tr>\n",
       "    <tr>\n",
       "      <th>4174</th>\n",
       "      <td>Urgent Walk Ins For Sales Executive - Kolkata...</td>\n",
       "      <td>insurance, pharma sales, auto sales, business...</td>\n",
       "      <td>Kolkata,Guwahati,Ranchi</td>\n",
       "      <td>Retail Sales,Sales , Retail , Business Develop...</td>\n",
       "      <td>2</td>\n",
       "      <td>0</td>\n",
       "    </tr>\n",
       "    <tr>\n",
       "      <th>4175</th>\n",
       "      <td>Highway Engineer, Highway Design Engineer, Br...</td>\n",
       "      <td>Bridge Design, Highway Design, Highway Engine...</td>\n",
       "      <td>Delhi NCR</td>\n",
       "      <td>Site Engineering,Site Engineering , Project Ma...</td>\n",
       "      <td>3</td>\n",
       "      <td>0</td>\n",
       "    </tr>\n",
       "    <tr>\n",
       "      <th>4176</th>\n",
       "      <td>Job Opening ::raitan Pvt. Ltd. :: Accounts &amp;a...</td>\n",
       "      <td>accounts executive, admin assistant, administ...</td>\n",
       "      <td>Chennai</td>\n",
       "      <td>Accounts,Accounts , Finance , Tax , Company Se...</td>\n",
       "      <td>3</td>\n",
       "      <td>0</td>\n",
       "    </tr>\n",
       "    <tr>\n",
       "      <th>4177</th>\n",
       "      <td>Resource Mobilization Manager</td>\n",
       "      <td>Customer Relationship, Resource Mobilization,...</td>\n",
       "      <td>Bengaluru</td>\n",
       "      <td>Operations,Processes,Finance,Legal,Financial S...</td>\n",
       "      <td>3</td>\n",
       "      <td>0</td>\n",
       "    </tr>\n",
       "  </tbody>\n",
       "</table>\n",
       "<p>20890 rows × 6 columns</p>\n",
       "</div>"
      ],
      "text/plain": [
       "                                              Job_Title  \\\n",
       "6191                           Manager Process Planning   \n",
       "5930    Technical Application Support (with SQL & Java)   \n",
       "5702   Senior Associate- Merger and Accquisition-tax...   \n",
       "6213                                 Commercial Manager   \n",
       "5631                    Company Secretary For Pitampura   \n",
       "...                                                 ...   \n",
       "4173   Business Development Manager & BDO - All Indi...   \n",
       "4174   Urgent Walk Ins For Sales Executive - Kolkata...   \n",
       "4175   Highway Engineer, Highway Design Engineer, Br...   \n",
       "4176   Job Opening ::raitan Pvt. Ltd. :: Accounts &a...   \n",
       "4177                      Resource Mobilization Manager   \n",
       "\n",
       "                                             Key_Skills  \\\n",
       "6191   surface treatment, Method Engineering, Machin...   \n",
       "5930   Java, Stored Procedures, Technical Support, A...   \n",
       "5702                      ACQUISITION, taxation, MERGER   \n",
       "6213                              commercial management   \n",
       "5631   Company Secretary, Secretarial Activities, Ch...   \n",
       "...                                                 ...   \n",
       "4173   area manager, Sales & Distribution, business ...   \n",
       "4174   insurance, pharma sales, auto sales, business...   \n",
       "4175   Bridge Design, Highway Design, Highway Engine...   \n",
       "4176   accounts executive, admin assistant, administ...   \n",
       "4177   Customer Relationship, Resource Mobilization,...   \n",
       "\n",
       "                         Location1  \\\n",
       "6191                        Mumbai   \n",
       "5930                     Bengaluru   \n",
       "5702                       Gurgaon   \n",
       "6213                       Chennai   \n",
       "5631                     Delhi NCR   \n",
       "...                            ...   \n",
       "4173  Delhi NCR,Bengaluru,Ludhiana   \n",
       "4174       Kolkata,Guwahati,Ranchi   \n",
       "4175                     Delhi NCR   \n",
       "4176                       Chennai   \n",
       "4177                     Bengaluru   \n",
       "\n",
       "                                 Functional_Area_merged  Job_Experience  \\\n",
       "6191  Production,Manufacturing,Maintenance,Productio...               5   \n",
       "5930  Admin,Maintenance,Security,Datawarehousing,IT ...               5   \n",
       "5702  Senior Management,Accounts , Finance , Tax , C...               5   \n",
       "6213  Purchase,Material Management,Purchase , Logist...               5   \n",
       "5631  Senior Management,Accounts , Finance , Tax , C...               0   \n",
       "...                                                 ...             ...   \n",
       "4173  Channel Sales,Sales , Retail , Business Develo...               2   \n",
       "4174  Retail Sales,Sales , Retail , Business Develop...               2   \n",
       "4175  Site Engineering,Site Engineering , Project Ma...               3   \n",
       "4176  Accounts,Accounts , Finance , Tax , Company Se...               3   \n",
       "4177  Operations,Processes,Finance,Legal,Financial S...               3   \n",
       "\n",
       "      Job_Salary  \n",
       "6191           1  \n",
       "5930           1  \n",
       "5702           1  \n",
       "6213           1  \n",
       "5631           1  \n",
       "...          ...  \n",
       "4173           0  \n",
       "4174           0  \n",
       "4175           0  \n",
       "4176           0  \n",
       "4177           0  \n",
       "\n",
       "[20890 rows x 6 columns]"
      ]
     },
     "execution_count": 13,
     "metadata": {},
     "output_type": "execute_result"
    }
   ],
   "source": [
    "df"
   ]
  },
  {
   "cell_type": "code",
   "execution_count": 14,
   "id": "567afac8",
   "metadata": {},
   "outputs": [
    {
     "data": {
      "image/png": "[encoded data removed]",
      "text/plain": [
       "<Figure size 720x576 with 1 Axes>"
      ]
     },
     "metadata": {},
     "output_type": "display_data"
    }
   ],
   "source": [
    "plt.figure(figsize=(10,8))\n",
    "plt.pie(x=df['Job_Salary'].value_counts(),labels=[\"1 - 5\",\"10 - 25\",\"25 - 50\",\"5 - 10\",\"50 - 100\"])\n",
    "plt.show()"
   ]
  },
  {
   "cell_type": "code",
   "execution_count": 15,
   "id": "d14ac7bf",
   "metadata": {},
   "outputs": [],
   "source": [
    "df[\"Job_Title\"] = df[\"Job_Title\"].str.lower()\n",
    "df[\"Key_Skills\"] = df[\"Key_Skills\"].str.lower()\n",
    "df[\"Functional_Area_merged\"] = df[\"Functional_Area_merged\"].str.lower()\n",
    "df[\"Location1\"] = df[\"Location1\"].str.lower()\n"
   ]
  },
  {
   "cell_type": "code",
   "execution_count": 16,
   "id": "e935b195",
   "metadata": {},
   "outputs": [
    {
     "data": {
      "text/html": [
       "<div>\n",
       "<style scoped>\n",
       "    .dataframe tbody tr th:only-of-type {\n",
       "        vertical-align: middle;\n",
       "    }\n",
       "\n",
       "    .dataframe tbody tr th {\n",
       "        vertical-align: top;\n",
       "    }\n",
       "\n",
       "    .dataframe thead th {\n",
       "        text-align: right;\n",
       "    }\n",
       "</style>\n",
       "<table border=\"1\" class=\"dataframe\">\n",
       "  <thead>\n",
       "    <tr style=\"text-align: right;\">\n",
       "      <th></th>\n",
       "      <th>Job_Title</th>\n",
       "      <th>Key_Skills</th>\n",
       "      <th>Location1</th>\n",
       "      <th>Functional_Area_merged</th>\n",
       "      <th>Job_Experience</th>\n",
       "      <th>Job_Salary</th>\n",
       "    </tr>\n",
       "  </thead>\n",
       "  <tbody>\n",
       "    <tr>\n",
       "      <th>6191</th>\n",
       "      <td>manager process planning</td>\n",
       "      <td>surface treatment, method engineering, machin...</td>\n",
       "      <td>mumbai</td>\n",
       "      <td>production,manufacturing,maintenance,productio...</td>\n",
       "      <td>5</td>\n",
       "      <td>1</td>\n",
       "    </tr>\n",
       "    <tr>\n",
       "      <th>5930</th>\n",
       "      <td>technical application support (with sql &amp; java)</td>\n",
       "      <td>java, stored procedures, technical support, a...</td>\n",
       "      <td>bengaluru</td>\n",
       "      <td>admin,maintenance,security,datawarehousing,it ...</td>\n",
       "      <td>5</td>\n",
       "      <td>1</td>\n",
       "    </tr>\n",
       "    <tr>\n",
       "      <th>5702</th>\n",
       "      <td>senior associate- merger and accquisition-tax...</td>\n",
       "      <td>acquisition, taxation, merger</td>\n",
       "      <td>gurgaon</td>\n",
       "      <td>senior management,accounts , finance , tax , c...</td>\n",
       "      <td>5</td>\n",
       "      <td>1</td>\n",
       "    </tr>\n",
       "    <tr>\n",
       "      <th>6213</th>\n",
       "      <td>commercial manager</td>\n",
       "      <td>commercial management</td>\n",
       "      <td>chennai</td>\n",
       "      <td>purchase,material management,purchase , logist...</td>\n",
       "      <td>5</td>\n",
       "      <td>1</td>\n",
       "    </tr>\n",
       "    <tr>\n",
       "      <th>5631</th>\n",
       "      <td>company secretary for pitampura</td>\n",
       "      <td>company secretary, secretarial activities, ch...</td>\n",
       "      <td>delhi ncr</td>\n",
       "      <td>senior management,accounts , finance , tax , c...</td>\n",
       "      <td>0</td>\n",
       "      <td>1</td>\n",
       "    </tr>\n",
       "    <tr>\n",
       "      <th>...</th>\n",
       "      <td>...</td>\n",
       "      <td>...</td>\n",
       "      <td>...</td>\n",
       "      <td>...</td>\n",
       "      <td>...</td>\n",
       "      <td>...</td>\n",
       "    </tr>\n",
       "    <tr>\n",
       "      <th>4173</th>\n",
       "      <td>business development manager &amp; bdo - all indi...</td>\n",
       "      <td>area manager, sales &amp; distribution, business ...</td>\n",
       "      <td>delhi ncr,bengaluru,ludhiana</td>\n",
       "      <td>channel sales,sales , retail , business develo...</td>\n",
       "      <td>2</td>\n",
       "      <td>0</td>\n",
       "    </tr>\n",
       "    <tr>\n",
       "      <th>4174</th>\n",
       "      <td>urgent walk ins for sales executive - kolkata...</td>\n",
       "      <td>insurance, pharma sales, auto sales, business...</td>\n",
       "      <td>kolkata,guwahati,ranchi</td>\n",
       "      <td>retail sales,sales , retail , business develop...</td>\n",
       "      <td>2</td>\n",
       "      <td>0</td>\n",
       "    </tr>\n",
       "    <tr>\n",
       "      <th>4175</th>\n",
       "      <td>highway engineer, highway design engineer, br...</td>\n",
       "      <td>bridge design, highway design, highway engine...</td>\n",
       "      <td>delhi ncr</td>\n",
       "      <td>site engineering,site engineering , project ma...</td>\n",
       "      <td>3</td>\n",
       "      <td>0</td>\n",
       "    </tr>\n",
       "    <tr>\n",
       "      <th>4176</th>\n",
       "      <td>job opening ::raitan pvt. ltd. :: accounts &amp;a...</td>\n",
       "      <td>accounts executive, admin assistant, administ...</td>\n",
       "      <td>chennai</td>\n",
       "      <td>accounts,accounts , finance , tax , company se...</td>\n",
       "      <td>3</td>\n",
       "      <td>0</td>\n",
       "    </tr>\n",
       "    <tr>\n",
       "      <th>4177</th>\n",
       "      <td>resource mobilization manager</td>\n",
       "      <td>customer relationship, resource mobilization,...</td>\n",
       "      <td>bengaluru</td>\n",
       "      <td>operations,processes,finance,legal,financial s...</td>\n",
       "      <td>3</td>\n",
       "      <td>0</td>\n",
       "    </tr>\n",
       "  </tbody>\n",
       "</table>\n",
       "<p>20890 rows × 6 columns</p>\n",
       "</div>"
      ],
      "text/plain": [
       "                                              Job_Title  \\\n",
       "6191                           manager process planning   \n",
       "5930    technical application support (with sql & java)   \n",
       "5702   senior associate- merger and accquisition-tax...   \n",
       "6213                                 commercial manager   \n",
       "5631                    company secretary for pitampura   \n",
       "...                                                 ...   \n",
       "4173   business development manager & bdo - all indi...   \n",
       "4174   urgent walk ins for sales executive - kolkata...   \n",
       "4175   highway engineer, highway design engineer, br...   \n",
       "4176   job opening ::raitan pvt. ltd. :: accounts &a...   \n",
       "4177                      resource mobilization manager   \n",
       "\n",
       "                                             Key_Skills  \\\n",
       "6191   surface treatment, method engineering, machin...   \n",
       "5930   java, stored procedures, technical support, a...   \n",
       "5702                      acquisition, taxation, merger   \n",
       "6213                              commercial management   \n",
       "5631   company secretary, secretarial activities, ch...   \n",
       "...                                                 ...   \n",
       "4173   area manager, sales & distribution, business ...   \n",
       "4174   insurance, pharma sales, auto sales, business...   \n",
       "4175   bridge design, highway design, highway engine...   \n",
       "4176   accounts executive, admin assistant, administ...   \n",
       "4177   customer relationship, resource mobilization,...   \n",
       "\n",
       "                         Location1  \\\n",
       "6191                        mumbai   \n",
       "5930                     bengaluru   \n",
       "5702                       gurgaon   \n",
       "6213                       chennai   \n",
       "5631                     delhi ncr   \n",
       "...                            ...   \n",
       "4173  delhi ncr,bengaluru,ludhiana   \n",
       "4174       kolkata,guwahati,ranchi   \n",
       "4175                     delhi ncr   \n",
       "4176                       chennai   \n",
       "4177                     bengaluru   \n",
       "\n",
       "                                 Functional_Area_merged  Job_Experience  \\\n",
       "6191  production,manufacturing,maintenance,productio...               5   \n",
       "5930  admin,maintenance,security,datawarehousing,it ...               5   \n",
       "5702  senior management,accounts , finance , tax , c...               5   \n",
       "6213  purchase,material management,purchase , logist...               5   \n",
       "5631  senior management,accounts , finance , tax , c...               0   \n",
       "...                                                 ...             ...   \n",
       "4173  channel sales,sales , retail , business develo...               2   \n",
       "4174  retail sales,sales , retail , business develop...               2   \n",
       "4175  site engineering,site engineering , project ma...               3   \n",
       "4176  accounts,accounts , finance , tax , company se...               3   \n",
       "4177  operations,processes,finance,legal,financial s...               3   \n",
       "\n",
       "      Job_Salary  \n",
       "6191           1  \n",
       "5930           1  \n",
       "5702           1  \n",
       "6213           1  \n",
       "5631           1  \n",
       "...          ...  \n",
       "4173           0  \n",
       "4174           0  \n",
       "4175           0  \n",
       "4176           0  \n",
       "4177           0  \n",
       "\n",
       "[20890 rows x 6 columns]"
      ]
     },
     "execution_count": 16,
     "metadata": {},
     "output_type": "execute_result"
    }
   ],
   "source": [
    "df"
   ]
  },
  {
   "cell_type": "code",
   "execution_count": 17,
   "id": "7ebd6254",
   "metadata": {},
   "outputs": [
    {
     "data": {
      "text/html": [
       "<div>\n",
       "<style scoped>\n",
       "    .dataframe tbody tr th:only-of-type {\n",
       "        vertical-align: middle;\n",
       "    }\n",
       "\n",
       "    .dataframe tbody tr th {\n",
       "        vertical-align: top;\n",
       "    }\n",
       "\n",
       "    .dataframe thead th {\n",
       "        text-align: right;\n",
       "    }\n",
       "</style>\n",
       "<table border=\"1\" class=\"dataframe\">\n",
       "  <thead>\n",
       "    <tr style=\"text-align: right;\">\n",
       "      <th></th>\n",
       "      <th>Job_Experience</th>\n",
       "      <th>Job_Salary</th>\n",
       "    </tr>\n",
       "  </thead>\n",
       "  <tbody>\n",
       "    <tr>\n",
       "      <th>count</th>\n",
       "      <td>20890.000000</td>\n",
       "      <td>20890.000000</td>\n",
       "    </tr>\n",
       "    <tr>\n",
       "      <th>mean</th>\n",
       "      <td>2.204548</td>\n",
       "      <td>2.000000</td>\n",
       "    </tr>\n",
       "    <tr>\n",
       "      <th>std</th>\n",
       "      <td>2.006440</td>\n",
       "      <td>1.414247</td>\n",
       "    </tr>\n",
       "    <tr>\n",
       "      <th>min</th>\n",
       "      <td>0.000000</td>\n",
       "      <td>0.000000</td>\n",
       "    </tr>\n",
       "    <tr>\n",
       "      <th>25%</th>\n",
       "      <td>0.000000</td>\n",
       "      <td>1.000000</td>\n",
       "    </tr>\n",
       "    <tr>\n",
       "      <th>50%</th>\n",
       "      <td>2.000000</td>\n",
       "      <td>2.000000</td>\n",
       "    </tr>\n",
       "    <tr>\n",
       "      <th>75%</th>\n",
       "      <td>5.000000</td>\n",
       "      <td>3.000000</td>\n",
       "    </tr>\n",
       "    <tr>\n",
       "      <th>max</th>\n",
       "      <td>5.000000</td>\n",
       "      <td>4.000000</td>\n",
       "    </tr>\n",
       "  </tbody>\n",
       "</table>\n",
       "</div>"
      ],
      "text/plain": [
       "       Job_Experience    Job_Salary\n",
       "count    20890.000000  20890.000000\n",
       "mean         2.204548      2.000000\n",
       "std          2.006440      1.414247\n",
       "min          0.000000      0.000000\n",
       "25%          0.000000      1.000000\n",
       "50%          2.000000      2.000000\n",
       "75%          5.000000      3.000000\n",
       "max          5.000000      4.000000"
      ]
     },
     "execution_count": 17,
     "metadata": {},
     "output_type": "execute_result"
    }
   ],
   "source": [
    "df.describe()"
   ]
  },
  {
   "cell_type": "code",
   "execution_count": 18,
   "id": "595e0de9",
   "metadata": {},
   "outputs": [
    {
     "name": "stdout",
     "output_type": "stream",
     "text": [
      "<class 'pandas.core.frame.DataFrame'>\n",
      "Int64Index: 20890 entries, 6191 to 4177\n",
      "Data columns (total 6 columns):\n",
      " #   Column                  Non-Null Count  Dtype \n",
      "---  ------                  --------------  ----- \n",
      " 0   Job_Title               20890 non-null  object\n",
      " 1   Key_Skills              20890 non-null  object\n",
      " 2   Location1               20890 non-null  object\n",
      " 3   Functional_Area_merged  20890 non-null  object\n",
      " 4   Job_Experience          20890 non-null  int32 \n",
      " 5   Job_Salary              20890 non-null  int32 \n",
      "dtypes: int32(2), object(4)\n",
      "memory usage: 979.2+ KB\n"
     ]
    }
   ],
   "source": [
    "df.info()"
   ]
  },
  {
   "cell_type": "markdown",
   "id": "5c71bff0",
   "metadata": {},
   "source": [
    "Tokenization of Data"
   ]
  },
  {
   "cell_type": "code",
   "execution_count": 19,
   "id": "0ad5fba0",
   "metadata": {},
   "outputs": [],
   "source": [
    "# from nltk.tokenize import word_tokenize\n",
    "\n",
    "def word_tok(data):\n",
    "    tokens = re.findall(\"[\\w']+\", data)\n",
    "#     print(tokens)\n",
    "    return tokens"
   ]
  },
  {
   "cell_type": "markdown",
   "id": "8dabc92b",
   "metadata": {},
   "source": [
    "Removal of Stopwords"
   ]
  },
  {
   "cell_type": "code",
   "execution_count": 20,
   "id": "4864f29a",
   "metadata": {},
   "outputs": [],
   "source": [
    "def remove_stopwords(data):\n",
    "    stopWords = stopwords.words('english')\n",
    "    new_list = []\n",
    "    for i in data:\n",
    "        if i.lower() not in stopWords:\n",
    "            new_list.append(i)\n",
    "#     print(new_list)\n",
    "    return new_list"
   ]
  },
  {
   "cell_type": "markdown",
   "id": "aa284a20",
   "metadata": {},
   "source": [
    "Removal of Punctuation Symbols"
   ]
  },
  {
   "cell_type": "code",
   "execution_count": 21,
   "id": "f9074303",
   "metadata": {},
   "outputs": [],
   "source": [
    "def remove_punctuations(data):\n",
    "    new_list = []\n",
    "    for i in data:\n",
    "        for j in s.punctuation:\n",
    "            i = i.replace(j,'')\n",
    "        new_list.append(i)\n",
    "    return new_list"
   ]
  },
  {
   "cell_type": "markdown",
   "id": "c812417e",
   "metadata": {},
   "source": [
    "Removal of Numbers"
   ]
  },
  {
   "cell_type": "code",
   "execution_count": 22,
   "id": "c4b0f904",
   "metadata": {},
   "outputs": [],
   "source": [
    "def remove_number(data):\n",
    "    no_digit_list = []\n",
    "    new_list = []\n",
    "    \n",
    "    for i in data:\n",
    "        for j in s.digits:\n",
    "            i = i.replace(j,'')\n",
    "        no_digit_list.append(i)\n",
    "    \n",
    "    for i in no_digit_list:\n",
    "        if i!='':\n",
    "            new_list.append(i)\n",
    "    return new_list"
   ]
  },
  {
   "cell_type": "markdown",
   "id": "29aa247f",
   "metadata": {},
   "source": [
    "Lemmatization of Data"
   ]
  },
  {
   "cell_type": "code",
   "execution_count": 23,
   "id": "f950d866",
   "metadata": {},
   "outputs": [],
   "source": [
    "def lemmatization(data):\n",
    "    lemmatizer = nltk.stem.WordNetLemmatizer()\n",
    "    roots = [lemmatizer.lemmatize(i) for i in data]\n",
    "    return roots"
   ]
  },
  {
   "cell_type": "code",
   "execution_count": 24,
   "id": "6d96cf65",
   "metadata": {},
   "outputs": [],
   "source": [
    "# Job Title\n",
    "df[\"Job_Title\"] = df[\"Job_Title\"].apply(word_tok)\n",
    "df[\"Job_Title\"] = df[\"Job_Title\"].apply(remove_stopwords)\n",
    "df[\"Job_Title\"] = df[\"Job_Title\"].apply(remove_punctuations)\n",
    "df[\"Job_Title\"] = df[\"Job_Title\"].apply(remove_number)\n",
    "df[\"Job_Title\"] = df[\"Job_Title\"].apply(lemmatization)"
   ]
  },
  {
   "cell_type": "code",
   "execution_count": 25,
   "id": "e8684f44",
   "metadata": {},
   "outputs": [],
   "source": [
    "df['Job_Title'] = [' '.join(map(str,l)) for l in df['Job_Title']] "
   ]
  },
  {
   "cell_type": "code",
   "execution_count": 26,
   "id": "fd0aa3c5",
   "metadata": {},
   "outputs": [],
   "source": [
    "# Key Skills\n",
    "df[\"Key_Skills\"] = df[\"Key_Skills\"].apply(word_tok)\n",
    "df[\"Key_Skills\"] = df[\"Key_Skills\"].apply(remove_stopwords)\n",
    "df[\"Key_Skills\"] = df[\"Key_Skills\"].apply(remove_punctuations)\n",
    "df[\"Key_Skills\"] = df[\"Key_Skills\"].apply(remove_number)\n",
    "df[\"Key_Skills\"] = df[\"Key_Skills\"].apply(lemmatization)"
   ]
  },
  {
   "cell_type": "code",
   "execution_count": 27,
   "id": "9456e7a3",
   "metadata": {},
   "outputs": [],
   "source": [
    "df['Key_Skills'] = [' '.join(map(str,l)) for l in df['Key_Skills']] "
   ]
  },
  {
   "cell_type": "code",
   "execution_count": 28,
   "id": "e73e903c",
   "metadata": {},
   "outputs": [],
   "source": [
    "# Role Category\n",
    "df[\"Functional_Area_merged\"] = df[\"Functional_Area_merged\"].apply(word_tok)\n",
    "df[\"Functional_Area_merged\"] = df[\"Functional_Area_merged\"].apply(remove_stopwords)\n",
    "df[\"Functional_Area_merged\"] = df[\"Functional_Area_merged\"].apply(remove_punctuations)\n",
    "df[\"Functional_Area_merged\"] = df[\"Functional_Area_merged\"].apply(remove_number)\n",
    "df[\"Functional_Area_merged\"] = df[\"Functional_Area_merged\"].apply(lemmatization)"
   ]
  },
  {
   "cell_type": "code",
   "execution_count": 29,
   "id": "2b037f03",
   "metadata": {},
   "outputs": [],
   "source": [
    "df['Functional_Area_merged'] = [' '.join(map(str,l)) for l in df['Functional_Area_merged']] "
   ]
  },
  {
   "cell_type": "code",
   "execution_count": 30,
   "id": "1aa012d9",
   "metadata": {},
   "outputs": [],
   "source": [
    "# Location\n",
    "df[\"Location1\"] = df[\"Location1\"].apply(word_tok)\n",
    "df[\"Location1\"] = df[\"Location1\"].apply(remove_stopwords)\n",
    "df[\"Location1\"] = df[\"Location1\"].apply(remove_punctuations)\n",
    "df[\"Location1\"] = df[\"Location1\"].apply(remove_number)\n",
    "df[\"Location1\"] = df[\"Location1\"].apply(lemmatization)"
   ]
  },
  {
   "cell_type": "code",
   "execution_count": 31,
   "id": "91fc0667",
   "metadata": {},
   "outputs": [],
   "source": [
    "df['Location1'] = [' '.join(map(str,l)) for l in df['Location1']] "
   ]
  },
  {
   "cell_type": "code",
   "execution_count": 32,
   "id": "08aea010",
   "metadata": {},
   "outputs": [
    {
     "data": {
      "text/html": [
       "<div>\n",
       "<style scoped>\n",
       "    .dataframe tbody tr th:only-of-type {\n",
       "        vertical-align: middle;\n",
       "    }\n",
       "\n",
       "    .dataframe tbody tr th {\n",
       "        vertical-align: top;\n",
       "    }\n",
       "\n",
       "    .dataframe thead th {\n",
       "        text-align: right;\n",
       "    }\n",
       "</style>\n",
       "<table border=\"1\" class=\"dataframe\">\n",
       "  <thead>\n",
       "    <tr style=\"text-align: right;\">\n",
       "      <th></th>\n",
       "      <th>Job_Title</th>\n",
       "      <th>Key_Skills</th>\n",
       "      <th>Location1</th>\n",
       "      <th>Functional_Area_merged</th>\n",
       "      <th>Job_Experience</th>\n",
       "      <th>Job_Salary</th>\n",
       "    </tr>\n",
       "  </thead>\n",
       "  <tbody>\n",
       "    <tr>\n",
       "      <th>6191</th>\n",
       "      <td>manager process planning</td>\n",
       "      <td>surface treatment method engineering machining...</td>\n",
       "      <td>mumbai</td>\n",
       "      <td>production manufacturing maintenance productio...</td>\n",
       "      <td>5</td>\n",
       "      <td>1</td>\n",
       "    </tr>\n",
       "    <tr>\n",
       "      <th>5930</th>\n",
       "      <td>technical application support sql java</td>\n",
       "      <td>java stored procedure technical support applic...</td>\n",
       "      <td>bengaluru</td>\n",
       "      <td>admin maintenance security datawarehousing sof...</td>\n",
       "      <td>5</td>\n",
       "      <td>1</td>\n",
       "    </tr>\n",
       "    <tr>\n",
       "      <th>5702</th>\n",
       "      <td>senior associate merger accquisition taxation</td>\n",
       "      <td>acquisition taxation merger</td>\n",
       "      <td>gurgaon</td>\n",
       "      <td>senior management account finance tax company ...</td>\n",
       "      <td>5</td>\n",
       "      <td>1</td>\n",
       "    </tr>\n",
       "    <tr>\n",
       "      <th>6213</th>\n",
       "      <td>commercial manager</td>\n",
       "      <td>commercial management</td>\n",
       "      <td>chennai</td>\n",
       "      <td>purchase material management purchase logistic...</td>\n",
       "      <td>5</td>\n",
       "      <td>1</td>\n",
       "    </tr>\n",
       "    <tr>\n",
       "      <th>5631</th>\n",
       "      <td>company secretary pitampura</td>\n",
       "      <td>company secretary secretarial activity charter...</td>\n",
       "      <td>delhi ncr</td>\n",
       "      <td>senior management account finance tax company ...</td>\n",
       "      <td>0</td>\n",
       "      <td>1</td>\n",
       "    </tr>\n",
       "    <tr>\n",
       "      <th>...</th>\n",
       "      <td>...</td>\n",
       "      <td>...</td>\n",
       "      <td>...</td>\n",
       "      <td>...</td>\n",
       "      <td>...</td>\n",
       "      <td>...</td>\n",
       "    </tr>\n",
       "    <tr>\n",
       "      <th>4173</th>\n",
       "      <td>business development manager bdo india vacancy</td>\n",
       "      <td>area manager sale distribution business manage...</td>\n",
       "      <td>delhi ncr bengaluru ludhiana</td>\n",
       "      <td>channel sale sale retail business development ...</td>\n",
       "      <td>2</td>\n",
       "      <td>0</td>\n",
       "    </tr>\n",
       "    <tr>\n",
       "      <th>4174</th>\n",
       "      <td>urgent walk in sale executive kolkata bhubnesh...</td>\n",
       "      <td>insurance pharma sale auto sale business devel...</td>\n",
       "      <td>kolkata guwahati ranchi</td>\n",
       "      <td>retail sale sale retail business development i...</td>\n",
       "      <td>2</td>\n",
       "      <td>0</td>\n",
       "    </tr>\n",
       "    <tr>\n",
       "      <th>4175</th>\n",
       "      <td>highway engineer highway design engineer bridg...</td>\n",
       "      <td>bridge design highway design highway engineeri...</td>\n",
       "      <td>delhi ncr</td>\n",
       "      <td>site engineering site engineering project mana...</td>\n",
       "      <td>3</td>\n",
       "      <td>0</td>\n",
       "    </tr>\n",
       "    <tr>\n",
       "      <th>4176</th>\n",
       "      <td>job opening raitan pvt ltd account admin ex ch...</td>\n",
       "      <td>account executive admin assistant administrati...</td>\n",
       "      <td>chennai</td>\n",
       "      <td>account account finance tax company secretary ...</td>\n",
       "      <td>3</td>\n",
       "      <td>0</td>\n",
       "    </tr>\n",
       "    <tr>\n",
       "      <th>4177</th>\n",
       "      <td>resource mobilization manager</td>\n",
       "      <td>customer relationship resource mobilization re...</td>\n",
       "      <td>bengaluru</td>\n",
       "      <td>operation process finance legal financial serv...</td>\n",
       "      <td>3</td>\n",
       "      <td>0</td>\n",
       "    </tr>\n",
       "  </tbody>\n",
       "</table>\n",
       "<p>20890 rows × 6 columns</p>\n",
       "</div>"
      ],
      "text/plain": [
       "                                              Job_Title  \\\n",
       "6191                           manager process planning   \n",
       "5930             technical application support sql java   \n",
       "5702      senior associate merger accquisition taxation   \n",
       "6213                                 commercial manager   \n",
       "5631                        company secretary pitampura   \n",
       "...                                                 ...   \n",
       "4173     business development manager bdo india vacancy   \n",
       "4174  urgent walk in sale executive kolkata bhubnesh...   \n",
       "4175  highway engineer highway design engineer bridg...   \n",
       "4176  job opening raitan pvt ltd account admin ex ch...   \n",
       "4177                      resource mobilization manager   \n",
       "\n",
       "                                             Key_Skills  \\\n",
       "6191  surface treatment method engineering machining...   \n",
       "5930  java stored procedure technical support applic...   \n",
       "5702                        acquisition taxation merger   \n",
       "6213                              commercial management   \n",
       "5631  company secretary secretarial activity charter...   \n",
       "...                                                 ...   \n",
       "4173  area manager sale distribution business manage...   \n",
       "4174  insurance pharma sale auto sale business devel...   \n",
       "4175  bridge design highway design highway engineeri...   \n",
       "4176  account executive admin assistant administrati...   \n",
       "4177  customer relationship resource mobilization re...   \n",
       "\n",
       "                         Location1  \\\n",
       "6191                        mumbai   \n",
       "5930                     bengaluru   \n",
       "5702                       gurgaon   \n",
       "6213                       chennai   \n",
       "5631                     delhi ncr   \n",
       "...                            ...   \n",
       "4173  delhi ncr bengaluru ludhiana   \n",
       "4174       kolkata guwahati ranchi   \n",
       "4175                     delhi ncr   \n",
       "4176                       chennai   \n",
       "4177                     bengaluru   \n",
       "\n",
       "                                 Functional_Area_merged  Job_Experience  \\\n",
       "6191  production manufacturing maintenance productio...               5   \n",
       "5930  admin maintenance security datawarehousing sof...               5   \n",
       "5702  senior management account finance tax company ...               5   \n",
       "6213  purchase material management purchase logistic...               5   \n",
       "5631  senior management account finance tax company ...               0   \n",
       "...                                                 ...             ...   \n",
       "4173  channel sale sale retail business development ...               2   \n",
       "4174  retail sale sale retail business development i...               2   \n",
       "4175  site engineering site engineering project mana...               3   \n",
       "4176  account account finance tax company secretary ...               3   \n",
       "4177  operation process finance legal financial serv...               3   \n",
       "\n",
       "      Job_Salary  \n",
       "6191           1  \n",
       "5930           1  \n",
       "5702           1  \n",
       "6213           1  \n",
       "5631           1  \n",
       "...          ...  \n",
       "4173           0  \n",
       "4174           0  \n",
       "4175           0  \n",
       "4176           0  \n",
       "4177           0  \n",
       "\n",
       "[20890 rows x 6 columns]"
      ]
     },
     "execution_count": 32,
     "metadata": {},
     "output_type": "execute_result"
    }
   ],
   "source": [
    "df"
   ]
  },
  {
   "cell_type": "code",
   "execution_count": 33,
   "id": "1b05a04d",
   "metadata": {},
   "outputs": [
    {
     "name": "stdout",
     "output_type": "stream",
     "text": [
      "<class 'pandas.core.frame.DataFrame'>\n",
      "Int64Index: 20890 entries, 6191 to 4177\n",
      "Data columns (total 6 columns):\n",
      " #   Column                  Non-Null Count  Dtype \n",
      "---  ------                  --------------  ----- \n",
      " 0   Job_Title               20890 non-null  object\n",
      " 1   Key_Skills              20890 non-null  object\n",
      " 2   Location1               20890 non-null  object\n",
      " 3   Functional_Area_merged  20890 non-null  object\n",
      " 4   Job_Experience          20890 non-null  int32 \n",
      " 5   Job_Salary              20890 non-null  int32 \n",
      "dtypes: int32(2), object(4)\n",
      "memory usage: 979.2+ KB\n"
     ]
    }
   ],
   "source": [
    "df.info()"
   ]
  },
  {
   "cell_type": "code",
   "execution_count": 34,
   "id": "7ad57027",
   "metadata": {},
   "outputs": [],
   "source": [
    "from sklearn.feature_extraction.text import TfidfVectorizer\n",
    "from sklearn.pipeline import Pipeline\n",
    "from sklearn.model_selection import train_test_split\n",
    "from sklearn.metrics import accuracy_score, classification_report, confusion_matrix"
   ]
  },
  {
   "cell_type": "code",
   "execution_count": 35,
   "id": "a04f4958",
   "metadata": {},
   "outputs": [],
   "source": [
    "x_train = df.drop([\"Job_Salary\"],axis =1)"
   ]
  },
  {
   "cell_type": "code",
   "execution_count": 36,
   "id": "6f374b95",
   "metadata": {},
   "outputs": [
    {
     "data": {
      "text/html": [
       "<div>\n",
       "<style scoped>\n",
       "    .dataframe tbody tr th:only-of-type {\n",
       "        vertical-align: middle;\n",
       "    }\n",
       "\n",
       "    .dataframe tbody tr th {\n",
       "        vertical-align: top;\n",
       "    }\n",
       "\n",
       "    .dataframe thead th {\n",
       "        text-align: right;\n",
       "    }\n",
       "</style>\n",
       "<table border=\"1\" class=\"dataframe\">\n",
       "  <thead>\n",
       "    <tr style=\"text-align: right;\">\n",
       "      <th></th>\n",
       "      <th>Job_Title</th>\n",
       "      <th>Key_Skills</th>\n",
       "      <th>Location1</th>\n",
       "      <th>Functional_Area_merged</th>\n",
       "      <th>Job_Experience</th>\n",
       "    </tr>\n",
       "  </thead>\n",
       "  <tbody>\n",
       "    <tr>\n",
       "      <th>6191</th>\n",
       "      <td>manager process planning</td>\n",
       "      <td>surface treatment method engineering machining...</td>\n",
       "      <td>mumbai</td>\n",
       "      <td>production manufacturing maintenance productio...</td>\n",
       "      <td>5</td>\n",
       "    </tr>\n",
       "    <tr>\n",
       "      <th>5930</th>\n",
       "      <td>technical application support sql java</td>\n",
       "      <td>java stored procedure technical support applic...</td>\n",
       "      <td>bengaluru</td>\n",
       "      <td>admin maintenance security datawarehousing sof...</td>\n",
       "      <td>5</td>\n",
       "    </tr>\n",
       "    <tr>\n",
       "      <th>5702</th>\n",
       "      <td>senior associate merger accquisition taxation</td>\n",
       "      <td>acquisition taxation merger</td>\n",
       "      <td>gurgaon</td>\n",
       "      <td>senior management account finance tax company ...</td>\n",
       "      <td>5</td>\n",
       "    </tr>\n",
       "    <tr>\n",
       "      <th>6213</th>\n",
       "      <td>commercial manager</td>\n",
       "      <td>commercial management</td>\n",
       "      <td>chennai</td>\n",
       "      <td>purchase material management purchase logistic...</td>\n",
       "      <td>5</td>\n",
       "    </tr>\n",
       "    <tr>\n",
       "      <th>5631</th>\n",
       "      <td>company secretary pitampura</td>\n",
       "      <td>company secretary secretarial activity charter...</td>\n",
       "      <td>delhi ncr</td>\n",
       "      <td>senior management account finance tax company ...</td>\n",
       "      <td>0</td>\n",
       "    </tr>\n",
       "    <tr>\n",
       "      <th>...</th>\n",
       "      <td>...</td>\n",
       "      <td>...</td>\n",
       "      <td>...</td>\n",
       "      <td>...</td>\n",
       "      <td>...</td>\n",
       "    </tr>\n",
       "    <tr>\n",
       "      <th>4173</th>\n",
       "      <td>business development manager bdo india vacancy</td>\n",
       "      <td>area manager sale distribution business manage...</td>\n",
       "      <td>delhi ncr bengaluru ludhiana</td>\n",
       "      <td>channel sale sale retail business development ...</td>\n",
       "      <td>2</td>\n",
       "    </tr>\n",
       "    <tr>\n",
       "      <th>4174</th>\n",
       "      <td>urgent walk in sale executive kolkata bhubnesh...</td>\n",
       "      <td>insurance pharma sale auto sale business devel...</td>\n",
       "      <td>kolkata guwahati ranchi</td>\n",
       "      <td>retail sale sale retail business development i...</td>\n",
       "      <td>2</td>\n",
       "    </tr>\n",
       "    <tr>\n",
       "      <th>4175</th>\n",
       "      <td>highway engineer highway design engineer bridg...</td>\n",
       "      <td>bridge design highway design highway engineeri...</td>\n",
       "      <td>delhi ncr</td>\n",
       "      <td>site engineering site engineering project mana...</td>\n",
       "      <td>3</td>\n",
       "    </tr>\n",
       "    <tr>\n",
       "      <th>4176</th>\n",
       "      <td>job opening raitan pvt ltd account admin ex ch...</td>\n",
       "      <td>account executive admin assistant administrati...</td>\n",
       "      <td>chennai</td>\n",
       "      <td>account account finance tax company secretary ...</td>\n",
       "      <td>3</td>\n",
       "    </tr>\n",
       "    <tr>\n",
       "      <th>4177</th>\n",
       "      <td>resource mobilization manager</td>\n",
       "      <td>customer relationship resource mobilization re...</td>\n",
       "      <td>bengaluru</td>\n",
       "      <td>operation process finance legal financial serv...</td>\n",
       "      <td>3</td>\n",
       "    </tr>\n",
       "  </tbody>\n",
       "</table>\n",
       "<p>20890 rows × 5 columns</p>\n",
       "</div>"
      ],
      "text/plain": [
       "                                              Job_Title  \\\n",
       "6191                           manager process planning   \n",
       "5930             technical application support sql java   \n",
       "5702      senior associate merger accquisition taxation   \n",
       "6213                                 commercial manager   \n",
       "5631                        company secretary pitampura   \n",
       "...                                                 ...   \n",
       "4173     business development manager bdo india vacancy   \n",
       "4174  urgent walk in sale executive kolkata bhubnesh...   \n",
       "4175  highway engineer highway design engineer bridg...   \n",
       "4176  job opening raitan pvt ltd account admin ex ch...   \n",
       "4177                      resource mobilization manager   \n",
       "\n",
       "                                             Key_Skills  \\\n",
       "6191  surface treatment method engineering machining...   \n",
       "5930  java stored procedure technical support applic...   \n",
       "5702                        acquisition taxation merger   \n",
       "6213                              commercial management   \n",
       "5631  company secretary secretarial activity charter...   \n",
       "...                                                 ...   \n",
       "4173  area manager sale distribution business manage...   \n",
       "4174  insurance pharma sale auto sale business devel...   \n",
       "4175  bridge design highway design highway engineeri...   \n",
       "4176  account executive admin assistant administrati...   \n",
       "4177  customer relationship resource mobilization re...   \n",
       "\n",
       "                         Location1  \\\n",
       "6191                        mumbai   \n",
       "5930                     bengaluru   \n",
       "5702                       gurgaon   \n",
       "6213                       chennai   \n",
       "5631                     delhi ncr   \n",
       "...                            ...   \n",
       "4173  delhi ncr bengaluru ludhiana   \n",
       "4174       kolkata guwahati ranchi   \n",
       "4175                     delhi ncr   \n",
       "4176                       chennai   \n",
       "4177                     bengaluru   \n",
       "\n",
       "                                 Functional_Area_merged  Job_Experience  \n",
       "6191  production manufacturing maintenance productio...               5  \n",
       "5930  admin maintenance security datawarehousing sof...               5  \n",
       "5702  senior management account finance tax company ...               5  \n",
       "6213  purchase material management purchase logistic...               5  \n",
       "5631  senior management account finance tax company ...               0  \n",
       "...                                                 ...             ...  \n",
       "4173  channel sale sale retail business development ...               2  \n",
       "4174  retail sale sale retail business development i...               2  \n",
       "4175  site engineering site engineering project mana...               3  \n",
       "4176  account account finance tax company secretary ...               3  \n",
       "4177  operation process finance legal financial serv...               3  \n",
       "\n",
       "[20890 rows x 5 columns]"
      ]
     },
     "execution_count": 36,
     "metadata": {},
     "output_type": "execute_result"
    }
   ],
   "source": [
    "x_train"
   ]
  },
  {
   "cell_type": "code",
   "execution_count": 37,
   "id": "9110ebab",
   "metadata": {},
   "outputs": [],
   "source": [
    "y_train = df[\"Job_Salary\"].astype(int)"
   ]
  },
  {
   "cell_type": "code",
   "execution_count": 38,
   "id": "6be45467",
   "metadata": {},
   "outputs": [
    {
     "data": {
      "text/plain": [
       "6191    1\n",
       "5930    1\n",
       "5702    1\n",
       "6213    1\n",
       "5631    1\n",
       "       ..\n",
       "4173    0\n",
       "4174    0\n",
       "4175    0\n",
       "4176    0\n",
       "4177    0\n",
       "Name: Job_Salary, Length: 20890, dtype: int32"
      ]
     },
     "execution_count": 38,
     "metadata": {},
     "output_type": "execute_result"
    }
   ],
   "source": [
    "y_train"
   ]
  },
  {
   "cell_type": "code",
   "execution_count": 39,
   "id": "17e7f1e1",
   "metadata": {},
   "outputs": [
    {
     "data": {
      "text/html": [
       "<div>\n",
       "<style scoped>\n",
       "    .dataframe tbody tr th:only-of-type {\n",
       "        vertical-align: middle;\n",
       "    }\n",
       "\n",
       "    .dataframe tbody tr th {\n",
       "        vertical-align: top;\n",
       "    }\n",
       "\n",
       "    .dataframe thead th {\n",
       "        text-align: right;\n",
       "    }\n",
       "</style>\n",
       "<table border=\"1\" class=\"dataframe\">\n",
       "  <thead>\n",
       "    <tr style=\"text-align: right;\">\n",
       "      <th></th>\n",
       "      <th>Job_Salary</th>\n",
       "    </tr>\n",
       "  </thead>\n",
       "  <tbody>\n",
       "    <tr>\n",
       "      <th>6191</th>\n",
       "      <td>1</td>\n",
       "    </tr>\n",
       "    <tr>\n",
       "      <th>5930</th>\n",
       "      <td>1</td>\n",
       "    </tr>\n",
       "    <tr>\n",
       "      <th>5702</th>\n",
       "      <td>1</td>\n",
       "    </tr>\n",
       "    <tr>\n",
       "      <th>6213</th>\n",
       "      <td>1</td>\n",
       "    </tr>\n",
       "    <tr>\n",
       "      <th>5631</th>\n",
       "      <td>1</td>\n",
       "    </tr>\n",
       "    <tr>\n",
       "      <th>...</th>\n",
       "      <td>...</td>\n",
       "    </tr>\n",
       "    <tr>\n",
       "      <th>4173</th>\n",
       "      <td>0</td>\n",
       "    </tr>\n",
       "    <tr>\n",
       "      <th>4174</th>\n",
       "      <td>0</td>\n",
       "    </tr>\n",
       "    <tr>\n",
       "      <th>4175</th>\n",
       "      <td>0</td>\n",
       "    </tr>\n",
       "    <tr>\n",
       "      <th>4176</th>\n",
       "      <td>0</td>\n",
       "    </tr>\n",
       "    <tr>\n",
       "      <th>4177</th>\n",
       "      <td>0</td>\n",
       "    </tr>\n",
       "  </tbody>\n",
       "</table>\n",
       "<p>20890 rows × 1 columns</p>\n",
       "</div>"
      ],
      "text/plain": [
       "      Job_Salary\n",
       "6191           1\n",
       "5930           1\n",
       "5702           1\n",
       "6213           1\n",
       "5631           1\n",
       "...          ...\n",
       "4173           0\n",
       "4174           0\n",
       "4175           0\n",
       "4176           0\n",
       "4177           0\n",
       "\n",
       "[20890 rows x 1 columns]"
      ]
     },
     "execution_count": 39,
     "metadata": {},
     "output_type": "execute_result"
    }
   ],
   "source": [
    "y_train = pd.DataFrame(y_train)\n",
    "y_train"
   ]
  },
  {
   "cell_type": "code",
   "execution_count": 40,
   "id": "b1cc21d0",
   "metadata": {},
   "outputs": [],
   "source": [
    "tfidf = TfidfVectorizer()\n"
   ]
  },
  {
   "cell_type": "code",
   "execution_count": 41,
   "id": "be54dc99",
   "metadata": {},
   "outputs": [],
   "source": [
    "tfidf = TfidfVectorizer(max_features = 500, \n",
    "                              ngram_range = (1,3),\n",
    "                              stop_words = \"english\")\n",
    "X_Job_Title = tfidf.fit_transform(x_train[\"Job_Title\"].tolist())\n",
    "\n",
    "tfidf = TfidfVectorizer(max_features = 500, \n",
    "                              ngram_range = (1,3),\n",
    "                              stop_words = \"english\")\n",
    "X_Key_Skills = tfidf.fit_transform(x_train[\"Key_Skills\"].tolist())\n",
    "\n",
    "tfidf = TfidfVectorizer(max_features = 500, \n",
    "                              ngram_range = (1,3),\n",
    "                              stop_words = \"english\")\n",
    "X_Functional_Area_merged = tfidf.fit_transform(x_train[\"Functional_Area_merged\"].tolist())\n",
    "\n",
    "tfidf = TfidfVectorizer(max_features = 500, \n",
    "                              ngram_range = (1,3),\n",
    "                              stop_words = \"english\")\n",
    "X_Location1 = tfidf.fit_transform(x_train[\"Location1\"].tolist())\n",
    "\n"
   ]
  },
  {
   "cell_type": "code",
   "execution_count": 42,
   "id": "8908e177",
   "metadata": {},
   "outputs": [],
   "source": [
    "import scipy\n",
    "X = scipy.sparse.hstack((X_Job_Title, \n",
    "                         X_Key_Skills,\n",
    "                         X_Functional_Area_merged,\n",
    "                         X_Location1,\n",
    "                        x_train[[\"Job_Experience\"]].to_numpy())).tocsr()"
   ]
  },
  {
   "cell_type": "code",
   "execution_count": 43,
   "id": "fdd95657",
   "metadata": {},
   "outputs": [],
   "source": [
    "X_train,X_test,Y_train,Y_test = train_test_split(X,y_train,test_size = 0.33, random_state = 1)"
   ]
  },
  {
   "cell_type": "code",
   "execution_count": 44,
   "id": "eaf1454a",
   "metadata": {},
   "outputs": [
    {
     "data": {
      "text/plain": [
       "(13996, 2001)"
      ]
     },
     "execution_count": 44,
     "metadata": {},
     "output_type": "execute_result"
    }
   ],
   "source": [
    "X_train.shape"
   ]
  },
  {
   "cell_type": "code",
   "execution_count": 45,
   "id": "e11d26ca",
   "metadata": {},
   "outputs": [
    {
     "data": {
      "text/plain": [
       "(13996, 1)"
      ]
     },
     "execution_count": 45,
     "metadata": {},
     "output_type": "execute_result"
    }
   ],
   "source": [
    "Y_train.shape"
   ]
  },
  {
   "cell_type": "code",
   "execution_count": 46,
   "id": "f9f698d5",
   "metadata": {},
   "outputs": [
    {
     "data": {
      "text/plain": [
       "(6894, 2001)"
      ]
     },
     "execution_count": 46,
     "metadata": {},
     "output_type": "execute_result"
    }
   ],
   "source": [
    "X_test.shape"
   ]
  },
  {
   "cell_type": "code",
   "execution_count": 47,
   "id": "b345fe87",
   "metadata": {},
   "outputs": [
    {
     "data": {
      "text/plain": [
       "(6894, 1)"
      ]
     },
     "execution_count": 47,
     "metadata": {},
     "output_type": "execute_result"
    }
   ],
   "source": [
    "Y_test.shape"
   ]
  },
  {
   "cell_type": "markdown",
   "id": "4c267e0a",
   "metadata": {},
   "source": [
    "These are the models we are testing for our prediction\n",
    "1. LogisticRegression\n",
    "2.DecisionTreeClassifier\n",
    "3.RandomForestClassifier\n",
    "4.AdaBoostClassifier\n",
    "5.GradientBoostingClassifier\n",
    "6.XGBClassifier\n",
    "7.LGBMClassifier\n",
    "8.KNeighborsClassifier\n"
   ]
  },
  {
   "cell_type": "markdown",
   "id": "7f1126fc",
   "metadata": {},
   "source": [
    "1. LogisticRegression"
   ]
  },
  {
   "cell_type": "code",
   "execution_count": 48,
   "id": "b6d07a46",
   "metadata": {},
   "outputs": [
    {
     "name": "stdout",
     "output_type": "stream",
     "text": [
      "CPU times: total: 6.94 s\n",
      "Wall time: 1.86 s\n"
     ]
    },
    {
     "data": {
      "text/plain": [
       "LogisticRegression()"
      ]
     },
     "execution_count": 48,
     "metadata": {},
     "output_type": "execute_result"
    }
   ],
   "source": [
    "%%time\n",
    "logistic_model = LogisticRegression()\n",
    "logistic_model.fit(X_train,Y_train)"
   ]
  },
  {
   "cell_type": "code",
   "execution_count": 49,
   "id": "53e93c2f",
   "metadata": {},
   "outputs": [
    {
     "name": "stdout",
     "output_type": "stream",
     "text": [
      "Accuracy Score                 : 0.872\n",
      "Precision Score                : 0.872\n",
      "Recall Score                   : 0.872\n",
      "Confusion Matrix               :\n",
      " [[2396   99   24  307    1]\n",
      " [  66 2255   71  372    0]\n",
      " [   0    0 2782   23    0]\n",
      " [ 336  445   46 1947    2]\n",
      " [   0    0    0    0 2824]]\n",
      "Classification Report          :\n",
      "               precision    recall  f1-score   support\n",
      "\n",
      "           0       0.86      0.85      0.85      2827\n",
      "           1       0.81      0.82      0.81      2764\n",
      "           2       0.95      0.99      0.97      2805\n",
      "           3       0.73      0.70      0.72      2776\n",
      "           4       1.00      1.00      1.00      2824\n",
      "\n",
      "    accuracy                           0.87     13996\n",
      "   macro avg       0.87      0.87      0.87     13996\n",
      "weighted avg       0.87      0.87      0.87     13996\n",
      "\n"
     ]
    }
   ],
   "source": [
    "logistic_pred_train = logistic_model.predict(X_train)\n",
    "print('Accuracy Score                 :',round(accuracy_score(Y_train,logistic_pred_train),4))\n",
    "print('Precision Score                :',round(precision_score(Y_train,logistic_pred_train,average='micro'),4))\n",
    "print('Recall Score                   :',round(recall_score(Y_train,logistic_pred_train,average='micro'),4))\n",
    "print('Confusion Matrix               :\\n',confusion_matrix(Y_train,logistic_pred_train))\n",
    "print('Classification Report          :\\n',classification_report(Y_train,logistic_pred_train))"
   ]
  },
  {
   "cell_type": "code",
   "execution_count": 50,
   "id": "0a5f6f8a",
   "metadata": {},
   "outputs": [
    {
     "name": "stdout",
     "output_type": "stream",
     "text": [
      "Accuracy Score                 : 0.8374\n",
      "Precision Score                : 0.8374\n",
      "Recall Score                   : 0.8374\n",
      "Confusion Matrix               :\n",
      " [[1086   55   15  195    0]\n",
      " [  46 1074   53  238    3]\n",
      " [   0    0 1364    9    0]\n",
      " [ 185  292   27  895    3]\n",
      " [   0    0    0    0 1354]]\n",
      "Classification Report          :\n",
      "               precision    recall  f1-score   support\n",
      "\n",
      "           0       0.82      0.80      0.81      1351\n",
      "           1       0.76      0.76      0.76      1414\n",
      "           2       0.93      0.99      0.96      1373\n",
      "           3       0.67      0.64      0.65      1402\n",
      "           4       1.00      1.00      1.00      1354\n",
      "\n",
      "    accuracy                           0.84      6894\n",
      "   macro avg       0.84      0.84      0.84      6894\n",
      "weighted avg       0.83      0.84      0.84      6894\n",
      "\n"
     ]
    }
   ],
   "source": [
    "logistic_pred_test = logistic_model.predict(X_test)\n",
    "print('Accuracy Score                 :',round(accuracy_score(Y_test,logistic_pred_test),4))\n",
    "print('Precision Score                :',round(precision_score(Y_test,logistic_pred_test,average='micro'),4))\n",
    "print('Recall Score                   :',round(recall_score(Y_test,logistic_pred_test,average='micro'),4))\n",
    "print('Confusion Matrix               :\\n',confusion_matrix(Y_test,logistic_pred_test))\n",
    "print('Classification Report          :\\n',classification_report(Y_test,logistic_pred_test))"
   ]
  },
  {
   "cell_type": "markdown",
   "id": "24b382da",
   "metadata": {},
   "source": [
    "2.DecisionTreeClassifier"
   ]
  },
  {
   "cell_type": "code",
   "execution_count": 51,
   "id": "902094ba",
   "metadata": {},
   "outputs": [
    {
     "name": "stdout",
     "output_type": "stream",
     "text": [
      "CPU times: total: 1.66 s\n",
      "Wall time: 1.61 s\n"
     ]
    },
    {
     "data": {
      "text/plain": [
       "DecisionTreeClassifier(max_depth=57, random_state=15)"
      ]
     },
     "execution_count": 51,
     "metadata": {},
     "output_type": "execute_result"
    }
   ],
   "source": [
    "%%time\n",
    "dt_model = DecisionTreeClassifier(random_state=15,max_depth=57)\n",
    "dt_model.fit(X_train,Y_train)"
   ]
  },
  {
   "cell_type": "code",
   "execution_count": 52,
   "id": "411132f8",
   "metadata": {},
   "outputs": [
    {
     "name": "stdout",
     "output_type": "stream",
     "text": [
      "Accuracy Score                 : 0.9901\n",
      "Precision Score                : 0.9901\n",
      "Recall Score                   : 0.9901\n",
      "Confusion Matrix               :\n",
      " [[2775    1    0   51    0]\n",
      " [   2 2744    0   18    0]\n",
      " [   0    0 2805    0    0]\n",
      " [  48   18    0 2710    0]\n",
      " [   0    0    0    0 2824]]\n",
      "Classification Report          :\n",
      "               precision    recall  f1-score   support\n",
      "\n",
      "           0       0.98      0.98      0.98      2827\n",
      "           1       0.99      0.99      0.99      2764\n",
      "           2       1.00      1.00      1.00      2805\n",
      "           3       0.98      0.98      0.98      2776\n",
      "           4       1.00      1.00      1.00      2824\n",
      "\n",
      "    accuracy                           0.99     13996\n",
      "   macro avg       0.99      0.99      0.99     13996\n",
      "weighted avg       0.99      0.99      0.99     13996\n",
      "\n"
     ]
    }
   ],
   "source": [
    "dt_pred_train = dt_model.predict(X_train)\n",
    "print('Accuracy Score                 :',round(accuracy_score(Y_train,dt_pred_train),4))\n",
    "print('Precision Score                :',round(precision_score(Y_train,dt_pred_train,average='micro'),4))\n",
    "print('Recall Score                   :',round(recall_score(Y_train,dt_pred_train,average='micro'),4))\n",
    "print('Confusion Matrix               :\\n',confusion_matrix(Y_train,dt_pred_train))\n",
    "print('Classification Report          :\\n',classification_report(Y_train,dt_pred_train))\n"
   ]
  },
  {
   "cell_type": "code",
   "execution_count": 53,
   "id": "213d08cc",
   "metadata": {},
   "outputs": [
    {
     "name": "stdout",
     "output_type": "stream",
     "text": [
      "Accuracy Score                 : 0.9296\n",
      "Precision Score                : 0.9296\n",
      "Recall Score                   : 0.9296\n",
      "Confusion Matrix               :\n",
      " [[1094   57    5  195    0]\n",
      " [   7 1337   10   60    0]\n",
      " [   0    0 1373    0    0]\n",
      " [  84   65    2 1251    0]\n",
      " [   0    0    0    0 1354]]\n",
      "Classification Report          :\n",
      "               precision    recall  f1-score   support\n",
      "\n",
      "           0       0.92      0.81      0.86      1351\n",
      "           1       0.92      0.95      0.93      1414\n",
      "           2       0.99      1.00      0.99      1373\n",
      "           3       0.83      0.89      0.86      1402\n",
      "           4       1.00      1.00      1.00      1354\n",
      "\n",
      "    accuracy                           0.93      6894\n",
      "   macro avg       0.93      0.93      0.93      6894\n",
      "weighted avg       0.93      0.93      0.93      6894\n",
      "\n"
     ]
    }
   ],
   "source": [
    "dt_pred_test = dt_model.predict(X_test)\n",
    "print('Accuracy Score                 :',round(accuracy_score(Y_test,dt_pred_test),4))\n",
    "print('Precision Score                :',round(precision_score(Y_test,dt_pred_test,average='micro'),4))\n",
    "print('Recall Score                   :',round(recall_score(Y_test,dt_pred_test,average='micro'),4))\n",
    "print('Confusion Matrix               :\\n',confusion_matrix(Y_test,dt_pred_test))\n",
    "print('Classification Report          :\\n',classification_report(Y_test,dt_pred_test))"
   ]
  },
  {
   "cell_type": "markdown",
   "id": "fe019282",
   "metadata": {},
   "source": [
    "3. RandomForestClassifier"
   ]
  },
  {
   "cell_type": "code",
   "execution_count": 54,
   "id": "4f557392",
   "metadata": {},
   "outputs": [
    {
     "name": "stdout",
     "output_type": "stream",
     "text": [
      "CPU times: total: 10.3 s\n",
      "Wall time: 10.3 s\n"
     ]
    },
    {
     "data": {
      "text/plain": [
       "RandomForestClassifier(max_depth=57, random_state=15)"
      ]
     },
     "execution_count": 54,
     "metadata": {},
     "output_type": "execute_result"
    }
   ],
   "source": [
    "%%time\n",
    "rf_model = RandomForestClassifier(random_state=15,max_depth=57)\n",
    "rf_model.fit(X_train,Y_train)"
   ]
  },
  {
   "cell_type": "code",
   "execution_count": 55,
   "id": "42f30315",
   "metadata": {},
   "outputs": [
    {
     "name": "stdout",
     "output_type": "stream",
     "text": [
      "Accuracy Score                 : 0.9979\n",
      "Precision Score                : 0.9979\n",
      "Recall Score                   : 0.9979\n",
      "Confusion Matrix               :\n",
      " [[2818    2    0    7    0]\n",
      " [   0 2763    0    1    0]\n",
      " [   0    0 2805    0    0]\n",
      " [  13    6    0 2757    0]\n",
      " [   0    0    0    0 2824]]\n",
      "Classification Report          :\n",
      "               precision    recall  f1-score   support\n",
      "\n",
      "           0       1.00      1.00      1.00      2827\n",
      "           1       1.00      1.00      1.00      2764\n",
      "           2       1.00      1.00      1.00      2805\n",
      "           3       1.00      0.99      1.00      2776\n",
      "           4       1.00      1.00      1.00      2824\n",
      "\n",
      "    accuracy                           1.00     13996\n",
      "   macro avg       1.00      1.00      1.00     13996\n",
      "weighted avg       1.00      1.00      1.00     13996\n",
      "\n"
     ]
    }
   ],
   "source": [
    "rf_pred_train = rf_model.predict(X_train)\n",
    "print('Accuracy Score                 :',round(accuracy_score(Y_train,rf_pred_train),4))\n",
    "print('Precision Score                :',round(precision_score(Y_train,rf_pred_train,average='micro'),4))\n",
    "print('Recall Score                   :',round(recall_score(Y_train,rf_pred_train,average='micro'),4))\n",
    "print('Confusion Matrix               :\\n',confusion_matrix(Y_train,rf_pred_train))\n",
    "print('Classification Report          :\\n',classification_report(Y_train,rf_pred_train))"
   ]
  },
  {
   "cell_type": "code",
   "execution_count": 56,
   "id": "c09f095e",
   "metadata": {},
   "outputs": [
    {
     "name": "stdout",
     "output_type": "stream",
     "text": [
      "Accuracy Score                 : 0.9472\n",
      "Precision Score                : 0.9472\n",
      "Recall Score                   : 0.9472\n",
      "Confusion Matrix               :\n",
      " [[1142   37    0  172    0]\n",
      " [   4 1367    1   42    0]\n",
      " [   0    0 1373    0    0]\n",
      " [  48   60    0 1294    0]\n",
      " [   0    0    0    0 1354]]\n",
      "Classification Report          :\n",
      "               precision    recall  f1-score   support\n",
      "\n",
      "           0       0.96      0.85      0.90      1351\n",
      "           1       0.93      0.97      0.95      1414\n",
      "           2       1.00      1.00      1.00      1373\n",
      "           3       0.86      0.92      0.89      1402\n",
      "           4       1.00      1.00      1.00      1354\n",
      "\n",
      "    accuracy                           0.95      6894\n",
      "   macro avg       0.95      0.95      0.95      6894\n",
      "weighted avg       0.95      0.95      0.95      6894\n",
      "\n"
     ]
    }
   ],
   "source": [
    "rf_pred_test = rf_model.predict(X_test)\n",
    "print('Accuracy Score                 :',round(accuracy_score(Y_test,rf_pred_test),4))\n",
    "print('Precision Score                :',round(precision_score(Y_test,rf_pred_test,average='micro'),4))\n",
    "print('Recall Score                   :',round(recall_score(Y_test,rf_pred_test,average='micro'),4))\n",
    "print('Confusion Matrix               :\\n',confusion_matrix(Y_test,rf_pred_test))\n",
    "print('Classification Report          :\\n',classification_report(Y_test,rf_pred_test))"
   ]
  },
  {
   "cell_type": "markdown",
   "id": "f69bfe81",
   "metadata": {},
   "source": [
    "4. AdaBoostClassifier"
   ]
  },
  {
   "cell_type": "code",
   "execution_count": 57,
   "id": "68ba6a55",
   "metadata": {},
   "outputs": [
    {
     "name": "stdout",
     "output_type": "stream",
     "text": [
      "CPU times: total: 2.44 s\n",
      "Wall time: 2.44 s\n"
     ]
    },
    {
     "data": {
      "text/plain": [
       "AdaBoostClassifier(random_state=15)"
      ]
     },
     "execution_count": 57,
     "metadata": {},
     "output_type": "execute_result"
    }
   ],
   "source": [
    "%%time\n",
    "adaboost_model = AdaBoostClassifier(random_state=15)\n",
    "adaboost_model.fit(X_train,Y_train)"
   ]
  },
  {
   "cell_type": "code",
   "execution_count": 58,
   "id": "911a5afe",
   "metadata": {},
   "outputs": [
    {
     "name": "stdout",
     "output_type": "stream",
     "text": [
      "Accuracy Score                 : 0.4841\n",
      "Precision Score                : 0.4841\n",
      "Recall Score                   : 0.4841\n",
      "Confusion Matrix               :\n",
      " [[ 463  146   14 2204    0]\n",
      " [ 188 1511  696  269  100]\n",
      " [ 115  405 1893   98  294]\n",
      " [ 415 1201  106 1040   14]\n",
      " [   0    0  956    0 1868]]\n",
      "Classification Report          :\n",
      "               precision    recall  f1-score   support\n",
      "\n",
      "           0       0.39      0.16      0.23      2827\n",
      "           1       0.46      0.55      0.50      2764\n",
      "           2       0.52      0.67      0.59      2805\n",
      "           3       0.29      0.37      0.33      2776\n",
      "           4       0.82      0.66      0.73      2824\n",
      "\n",
      "    accuracy                           0.48     13996\n",
      "   macro avg       0.50      0.48      0.48     13996\n",
      "weighted avg       0.50      0.48      0.48     13996\n",
      "\n"
     ]
    }
   ],
   "source": [
    "adaboost_pred_train = adaboost_model.predict(X_train)\n",
    "print('Accuracy Score                 :',round(accuracy_score(Y_train,adaboost_pred_train),4))\n",
    "print('Precision Score                :',round(precision_score(Y_train,adaboost_pred_train,average='micro'),4))\n",
    "print('Recall Score                   :',round(recall_score(Y_train,adaboost_pred_train,average='micro'),4))\n",
    "print('Confusion Matrix               :\\n',confusion_matrix(Y_train,adaboost_pred_train))\n",
    "print('Classification Report          :\\n',classification_report(Y_train,adaboost_pred_train))"
   ]
  },
  {
   "cell_type": "code",
   "execution_count": 59,
   "id": "bee87d4f",
   "metadata": {},
   "outputs": [
    {
     "name": "stdout",
     "output_type": "stream",
     "text": [
      "Accuracy Score                 : 0.4751\n",
      "Precision Score                : 0.4751\n",
      "Recall Score                   : 0.4751\n",
      "Confusion Matrix               :\n",
      " [[ 205   91   11 1043    1]\n",
      " [  90  768  347  161   48]\n",
      " [  42  214  912   58  147]\n",
      " [ 194  665   44  491    8]\n",
      " [   0    0  455    0  899]]\n",
      "Classification Report          :\n",
      "               precision    recall  f1-score   support\n",
      "\n",
      "           0       0.39      0.15      0.22      1351\n",
      "           1       0.44      0.54      0.49      1414\n",
      "           2       0.52      0.66      0.58      1373\n",
      "           3       0.28      0.35      0.31      1402\n",
      "           4       0.82      0.66      0.73      1354\n",
      "\n",
      "    accuracy                           0.48      6894\n",
      "   macro avg       0.49      0.47      0.47      6894\n",
      "weighted avg       0.49      0.48      0.47      6894\n",
      "\n"
     ]
    }
   ],
   "source": [
    "adaboost_pred_test = adaboost_model.predict(X_test)\n",
    "print('Accuracy Score                 :',round(accuracy_score(Y_test,adaboost_pred_test),4))\n",
    "print('Precision Score                :',round(precision_score(Y_test,adaboost_pred_test,average='micro'),4))\n",
    "print('Recall Score                   :',round(recall_score(Y_test,adaboost_pred_test,average='micro'),4))\n",
    "print('Confusion Matrix               :\\n',confusion_matrix(Y_test,adaboost_pred_test))\n",
    "print('Classification Report          :\\n',classification_report(Y_test,adaboost_pred_test))"
   ]
  },
  {
   "cell_type": "markdown",
   "id": "88d862af",
   "metadata": {},
   "source": [
    "5. GradientBoostingClassifier"
   ]
  },
  {
   "cell_type": "code",
   "execution_count": 60,
   "id": "637b1b14",
   "metadata": {},
   "outputs": [
    {
     "name": "stdout",
     "output_type": "stream",
     "text": [
      "CPU times: total: 41.7 s\n",
      "Wall time: 41.7 s\n"
     ]
    },
    {
     "data": {
      "text/plain": [
       "GradientBoostingClassifier(random_state=15)"
      ]
     },
     "execution_count": 60,
     "metadata": {},
     "output_type": "execute_result"
    }
   ],
   "source": [
    "%%time\n",
    "gradient_model = GradientBoostingClassifier(random_state=15)\n",
    "gradient_model.fit(X_train,Y_train)"
   ]
  },
  {
   "cell_type": "code",
   "execution_count": 61,
   "id": "99858ca9",
   "metadata": {},
   "outputs": [
    {
     "name": "stdout",
     "output_type": "stream",
     "text": [
      "Accuracy Score                 : 0.8565\n",
      "Precision Score                : 0.8565\n",
      "Recall Score                   : 0.8565\n",
      "Confusion Matrix               :\n",
      " [[2440   42    4  341    0]\n",
      " [  96 2010  223  425   10]\n",
      " [   0   23 2782    0    0]\n",
      " [ 438  352   54 1932    0]\n",
      " [   0    0    0    0 2824]]\n",
      "Classification Report          :\n",
      "               precision    recall  f1-score   support\n",
      "\n",
      "           0       0.82      0.86      0.84      2827\n",
      "           1       0.83      0.73      0.77      2764\n",
      "           2       0.91      0.99      0.95      2805\n",
      "           3       0.72      0.70      0.71      2776\n",
      "           4       1.00      1.00      1.00      2824\n",
      "\n",
      "    accuracy                           0.86     13996\n",
      "   macro avg       0.85      0.86      0.85     13996\n",
      "weighted avg       0.85      0.86      0.85     13996\n",
      "\n"
     ]
    }
   ],
   "source": [
    "gradient_pred_train = gradient_model.predict(X_train)\n",
    "print('Accuracy Score                 :',round(accuracy_score(Y_train,gradient_pred_train),4))\n",
    "print('Precision Score                :',round(precision_score(Y_train,gradient_pred_train,average='micro'),4))\n",
    "print('Recall Score                   :',round(recall_score(Y_train,gradient_pred_train,average='micro'),4))\n",
    "print('Confusion Matrix               :\\n',confusion_matrix(Y_train,gradient_pred_train))\n",
    "print('Classification Report          :\\n',classification_report(Y_train,gradient_pred_train))"
   ]
  },
  {
   "cell_type": "code",
   "execution_count": 62,
   "id": "9bcd1d1d",
   "metadata": {},
   "outputs": [
    {
     "name": "stdout",
     "output_type": "stream",
     "text": [
      "Accuracy Score                 : 0.8225\n",
      "Precision Score                : 0.8225\n",
      "Recall Score                   : 0.8225\n",
      "Confusion Matrix               :\n",
      " [[1118   33    3  197    0]\n",
      " [  71  957  117  263    6]\n",
      " [   0    9 1364    0    0]\n",
      " [ 263  227   35  877    0]\n",
      " [   0    0    0    0 1354]]\n",
      "Classification Report          :\n",
      "               precision    recall  f1-score   support\n",
      "\n",
      "           0       0.77      0.83      0.80      1351\n",
      "           1       0.78      0.68      0.72      1414\n",
      "           2       0.90      0.99      0.94      1373\n",
      "           3       0.66      0.63      0.64      1402\n",
      "           4       1.00      1.00      1.00      1354\n",
      "\n",
      "    accuracy                           0.82      6894\n",
      "   macro avg       0.82      0.82      0.82      6894\n",
      "weighted avg       0.82      0.82      0.82      6894\n",
      "\n"
     ]
    }
   ],
   "source": [
    "gradient_pred_test = gradient_model.predict(X_test)\n",
    "print('Accuracy Score                 :',round(accuracy_score(Y_test,gradient_pred_test),4))\n",
    "print('Precision Score                :',round(precision_score(Y_test,gradient_pred_test,average='micro'),4))\n",
    "print('Recall Score                   :',round(recall_score(Y_test,gradient_pred_test,average='micro'),4))\n",
    "print('Confusion Matrix               :\\n',confusion_matrix(Y_test,gradient_pred_test))\n",
    "print('Classification Report          :\\n',classification_report(Y_test,gradient_pred_test))"
   ]
  },
  {
   "cell_type": "markdown",
   "id": "538f7d7e",
   "metadata": {},
   "source": [
    "6. XGBClassifier"
   ]
  },
  {
   "cell_type": "code",
   "execution_count": 63,
   "id": "d095fbe7",
   "metadata": {},
   "outputs": [
    {
     "name": "stdout",
     "output_type": "stream",
     "text": [
      "CPU times: total: 4min 42s\n",
      "Wall time: 36.7 s\n"
     ]
    },
    {
     "data": {
      "text/plain": [
       "XGBClassifier(base_score=0.5, booster='gbtree', callbacks=None,\n",
       "              colsample_bylevel=1, colsample_bynode=1, colsample_bytree=1,\n",
       "              early_stopping_rounds=None, enable_categorical=False,\n",
       "              eval_metric=None, gamma=0, gpu_id=-1, grow_policy='depthwise',\n",
       "              importance_type=None, interaction_constraints='',\n",
       "              learning_rate=0.300000012, max_bin=256, max_cat_to_onehot=4,\n",
       "              max_delta_step=0, max_depth=57, max_leaves=0, min_child_weight=1,\n",
       "              missing=nan, monotone_constraints='()', n_estimators=100,\n",
       "              n_jobs=0, num_parallel_tree=1, objective='multi:softprob',\n",
       "              predictor='auto', random_state=15, reg_alpha=0, ...)"
      ]
     },
     "execution_count": 63,
     "metadata": {},
     "output_type": "execute_result"
    }
   ],
   "source": [
    "%%time\n",
    "xgb_model = XGBClassifier(max_depth=57,random_state=15)\n",
    "xgb_model.fit(X_train,Y_train)"
   ]
  },
  {
   "cell_type": "code",
   "execution_count": 64,
   "id": "9e054def",
   "metadata": {},
   "outputs": [
    {
     "name": "stdout",
     "output_type": "stream",
     "text": [
      "Accuracy Score                 : 0.9999\n",
      "Precision Score                : 0.9999\n",
      "Recall Score                   : 0.9999\n",
      "Confusion Matrix               :\n",
      " [[2825    0    0    2    0]\n",
      " [   0 2764    0    0    0]\n",
      " [   0    0 2805    0    0]\n",
      " [   0    0    0 2776    0]\n",
      " [   0    0    0    0 2824]]\n",
      "Classification Report          :\n",
      "               precision    recall  f1-score   support\n",
      "\n",
      "           0       1.00      1.00      1.00      2827\n",
      "           1       1.00      1.00      1.00      2764\n",
      "           2       1.00      1.00      1.00      2805\n",
      "           3       1.00      1.00      1.00      2776\n",
      "           4       1.00      1.00      1.00      2824\n",
      "\n",
      "    accuracy                           1.00     13996\n",
      "   macro avg       1.00      1.00      1.00     13996\n",
      "weighted avg       1.00      1.00      1.00     13996\n",
      "\n"
     ]
    }
   ],
   "source": [
    "xgb_pred_train = xgb_model.predict(X_train)\n",
    "print('Accuracy Score                 :',round(accuracy_score(Y_train,xgb_pred_train),4))\n",
    "print('Precision Score                :',round(precision_score(Y_train,xgb_pred_train,average='micro'),4))\n",
    "print('Recall Score                   :',round(recall_score(Y_train,xgb_pred_train,average='micro'),4))\n",
    "print('Confusion Matrix               :\\n',confusion_matrix(Y_train,xgb_pred_train))\n",
    "print('Classification Report          :\\n',classification_report(Y_train,xgb_pred_train))"
   ]
  },
  {
   "cell_type": "code",
   "execution_count": 65,
   "id": "5e7ce32b",
   "metadata": {},
   "outputs": [
    {
     "name": "stdout",
     "output_type": "stream",
     "text": [
      "Accuracy Score                 : 0.9556\n",
      "Precision Score                : 0.9556\n",
      "Recall Score                   : 0.9556\n",
      "Confusion Matrix               :\n",
      " [[1178   34    1  138    0]\n",
      " [   4 1369    2   39    0]\n",
      " [   0    0 1373    0    0]\n",
      " [  43   45    0 1314    0]\n",
      " [   0    0    0    0 1354]]\n",
      "Classification Report          :\n",
      "               precision    recall  f1-score   support\n",
      "\n",
      "           0       0.96      0.87      0.91      1351\n",
      "           1       0.95      0.97      0.96      1414\n",
      "           2       1.00      1.00      1.00      1373\n",
      "           3       0.88      0.94      0.91      1402\n",
      "           4       1.00      1.00      1.00      1354\n",
      "\n",
      "    accuracy                           0.96      6894\n",
      "   macro avg       0.96      0.96      0.96      6894\n",
      "weighted avg       0.96      0.96      0.96      6894\n",
      "\n"
     ]
    }
   ],
   "source": [
    "xgb_pred_test = xgb_model.predict(X_test)\n",
    "print('Accuracy Score                 :',round(accuracy_score(Y_test,xgb_pred_test),4))\n",
    "print('Precision Score                :',round(precision_score(Y_test,xgb_pred_test,average='micro'),4))\n",
    "print('Recall Score                   :',round(recall_score(Y_test,xgb_pred_test,average='micro'),4))\n",
    "print('Confusion Matrix               :\\n',confusion_matrix(Y_test,xgb_pred_test))\n",
    "print('Classification Report          :\\n',classification_report(Y_test,xgb_pred_test))"
   ]
  },
  {
   "cell_type": "markdown",
   "id": "7a389d5b",
   "metadata": {},
   "source": [
    "7. LGBMClassifier"
   ]
  },
  {
   "cell_type": "code",
   "execution_count": 66,
   "id": "b42b0ab9",
   "metadata": {},
   "outputs": [
    {
     "name": "stdout",
     "output_type": "stream",
     "text": [
      "CPU times: total: 52.2 s\n",
      "Wall time: 7.61 s\n"
     ]
    },
    {
     "data": {
      "text/plain": [
       "LGBMClassifier(max_depth=57, random_state=15)"
      ]
     },
     "execution_count": 66,
     "metadata": {},
     "output_type": "execute_result"
    }
   ],
   "source": [
    "%%time\n",
    "lgb_model      = LGBMClassifier(max_depth=57,random_state=15)\n",
    "lgb_model.fit(X_train,Y_train)"
   ]
  },
  {
   "cell_type": "code",
   "execution_count": 67,
   "id": "4bc50065",
   "metadata": {},
   "outputs": [
    {
     "name": "stdout",
     "output_type": "stream",
     "text": [
      "Accuracy Score                 : 0.9877\n",
      "Precision Score                : 0.9877\n",
      "Recall Score                   : 0.9877\n",
      "Confusion Matrix               :\n",
      " [[2746   16    0   65    0]\n",
      " [   1 2742    0   21    0]\n",
      " [   0    0 2805    0    0]\n",
      " [  43   26    0 2707    0]\n",
      " [   0    0    0    0 2824]]\n",
      "Classification Report          :\n",
      "               precision    recall  f1-score   support\n",
      "\n",
      "           0       0.98      0.97      0.98      2827\n",
      "           1       0.98      0.99      0.99      2764\n",
      "           2       1.00      1.00      1.00      2805\n",
      "           3       0.97      0.98      0.97      2776\n",
      "           4       1.00      1.00      1.00      2824\n",
      "\n",
      "    accuracy                           0.99     13996\n",
      "   macro avg       0.99      0.99      0.99     13996\n",
      "weighted avg       0.99      0.99      0.99     13996\n",
      "\n"
     ]
    }
   ],
   "source": [
    "lgb_pred_train = lgb_model.predict(X_train)\n",
    "print('Accuracy Score                 :',round(accuracy_score(Y_train,lgb_pred_train),4))\n",
    "print('Precision Score                :',round(precision_score(Y_train,lgb_pred_train,average='micro'),4))\n",
    "print('Recall Score                   :',round(recall_score(Y_train,lgb_pred_train,average='micro'),4))\n",
    "print('Confusion Matrix               :\\n',confusion_matrix(Y_train,lgb_pred_train))\n",
    "print('Classification Report          :\\n',classification_report(Y_train,lgb_pred_train))"
   ]
  },
  {
   "cell_type": "code",
   "execution_count": 68,
   "id": "ccb04e88",
   "metadata": {},
   "outputs": [
    {
     "name": "stdout",
     "output_type": "stream",
     "text": [
      "Accuracy Score                 : 0.9414\n",
      "Precision Score                : 0.9414\n",
      "Recall Score                   : 0.9414\n",
      "Confusion Matrix               :\n",
      " [[1142   36    1  172    0]\n",
      " [   0 1359    1   54    0]\n",
      " [   0    0 1373    0    0]\n",
      " [  75   65    0 1262    0]\n",
      " [   0    0    0    0 1354]]\n",
      "Classification Report          :\n",
      "               precision    recall  f1-score   support\n",
      "\n",
      "           0       0.94      0.85      0.89      1351\n",
      "           1       0.93      0.96      0.95      1414\n",
      "           2       1.00      1.00      1.00      1373\n",
      "           3       0.85      0.90      0.87      1402\n",
      "           4       1.00      1.00      1.00      1354\n",
      "\n",
      "    accuracy                           0.94      6894\n",
      "   macro avg       0.94      0.94      0.94      6894\n",
      "weighted avg       0.94      0.94      0.94      6894\n",
      "\n"
     ]
    }
   ],
   "source": [
    "lgb_pred_test = lgb_model.predict(X_test)\n",
    "print('Accuracy Score                 :',round(accuracy_score(Y_test,lgb_pred_test),4))\n",
    "print('Precision Score                :',round(precision_score(Y_test,lgb_pred_test,average='micro'),4))\n",
    "print('Recall Score                   :',round(recall_score(Y_test,lgb_pred_test,average='micro'),4))\n",
    "print('Confusion Matrix               :\\n',confusion_matrix(Y_test,lgb_pred_test))\n",
    "print('Classification Report          :\\n',classification_report(Y_test,lgb_pred_test))"
   ]
  },
  {
   "cell_type": "markdown",
   "id": "85630ad7",
   "metadata": {},
   "source": [
    "8. KNeighborsClassifier"
   ]
  },
  {
   "cell_type": "code",
   "execution_count": 69,
   "id": "3bc10fea",
   "metadata": {},
   "outputs": [
    {
     "name": "stdout",
     "output_type": "stream",
     "text": [
      "CPU times: total: 62.5 ms\n",
      "Wall time: 17 ms\n"
     ]
    },
    {
     "data": {
      "text/plain": [
       "KNeighborsClassifier()"
      ]
     },
     "execution_count": 69,
     "metadata": {},
     "output_type": "execute_result"
    }
   ],
   "source": [
    "%%time\n",
    "knn_model = KNeighborsClassifier()\n",
    "knn_model.fit(X_train,Y_train)"
   ]
  },
  {
   "cell_type": "code",
   "execution_count": 70,
   "id": "e2c2c458",
   "metadata": {},
   "outputs": [
    {
     "name": "stdout",
     "output_type": "stream",
     "text": [
      "Accuracy Score                 : 0.9155\n",
      "Precision Score                : 0.9155\n",
      "Recall Score                   : 0.9155\n",
      "Confusion Matrix               :\n",
      " [[2376  113    4  334    0]\n",
      " [  52 2538   45  126    3]\n",
      " [   0    0 2805    0    0]\n",
      " [ 219  277    9 2271    0]\n",
      " [   0    0    0    0 2824]]\n",
      "Classification Report          :\n",
      "               precision    recall  f1-score   support\n",
      "\n",
      "           0       0.90      0.84      0.87      2827\n",
      "           1       0.87      0.92      0.89      2764\n",
      "           2       0.98      1.00      0.99      2805\n",
      "           3       0.83      0.82      0.82      2776\n",
      "           4       1.00      1.00      1.00      2824\n",
      "\n",
      "    accuracy                           0.92     13996\n",
      "   macro avg       0.91      0.92      0.91     13996\n",
      "weighted avg       0.92      0.92      0.92     13996\n",
      "\n"
     ]
    }
   ],
   "source": [
    "knn_pred_train = knn_model.predict(X_train)\n",
    "print('Accuracy Score                 :',round(accuracy_score(Y_train,knn_pred_train),4))\n",
    "print('Precision Score                :',round(precision_score(Y_train,knn_pred_train,average='micro'),4))\n",
    "print('Recall Score                   :',round(recall_score(Y_train,knn_pred_train,average='micro'),4))\n",
    "print('Confusion Matrix               :\\n',confusion_matrix(Y_train,knn_pred_train))\n",
    "print('Classification Report          :\\n',classification_report(Y_train,knn_pred_train))"
   ]
  },
  {
   "cell_type": "code",
   "execution_count": 71,
   "id": "2cc8d3d9",
   "metadata": {},
   "outputs": [
    {
     "name": "stdout",
     "output_type": "stream",
     "text": [
      "Accuracy Score                 : 0.8528\n",
      "Precision Score                : 0.8528\n",
      "Recall Score                   : 0.8528\n",
      "Confusion Matrix               :\n",
      " [[1034   80    4  233    0]\n",
      " [  52 1179   43  138    2]\n",
      " [   0    0 1373    0    0]\n",
      " [ 198  257    8  939    0]\n",
      " [   0    0    0    0 1354]]\n",
      "Classification Report          :\n",
      "               precision    recall  f1-score   support\n",
      "\n",
      "           0       0.81      0.77      0.78      1351\n",
      "           1       0.78      0.83      0.80      1414\n",
      "           2       0.96      1.00      0.98      1373\n",
      "           3       0.72      0.67      0.69      1402\n",
      "           4       1.00      1.00      1.00      1354\n",
      "\n",
      "    accuracy                           0.85      6894\n",
      "   macro avg       0.85      0.85      0.85      6894\n",
      "weighted avg       0.85      0.85      0.85      6894\n",
      "\n"
     ]
    }
   ],
   "source": [
    "knn_pred_test = knn_model.predict(X_test)\n",
    "print('Accuracy Score                 :',round(accuracy_score(Y_test,knn_pred_test),4))\n",
    "print('Precision Score                :',round(precision_score(Y_test,knn_pred_test,average='micro'),4))\n",
    "print('Recall Score                   :',round(recall_score(Y_test,knn_pred_test,average='micro'),4))\n",
    "print('Confusion Matrix               :\\n',confusion_matrix(Y_test,knn_pred_test))\n",
    "print('Classification Report          :\\n',classification_report(Y_test,knn_pred_test))"
   ]
  },
  {
   "cell_type": "markdown",
   "id": "ad393a03",
   "metadata": {},
   "source": [
    "Results Comparison"
   ]
  },
  {
   "cell_type": "code",
   "execution_count": 72,
   "id": "95a1b605",
   "metadata": {},
   "outputs": [
    {
     "data": {
      "text/html": [
       "<div>\n",
       "<style scoped>\n",
       "    .dataframe tbody tr th:only-of-type {\n",
       "        vertical-align: middle;\n",
       "    }\n",
       "\n",
       "    .dataframe tbody tr th {\n",
       "        vertical-align: top;\n",
       "    }\n",
       "\n",
       "    .dataframe thead th {\n",
       "        text-align: right;\n",
       "    }\n",
       "</style>\n",
       "<table border=\"1\" class=\"dataframe\">\n",
       "  <thead>\n",
       "    <tr style=\"text-align: right;\">\n",
       "      <th></th>\n",
       "      <th>Models</th>\n",
       "      <th>Training Accuracy</th>\n",
       "      <th>Test Accuracy</th>\n",
       "      <th>Precision Score</th>\n",
       "      <th>Recall Score</th>\n",
       "    </tr>\n",
       "  </thead>\n",
       "  <tbody>\n",
       "    <tr>\n",
       "      <th>0</th>\n",
       "      <td>Logistic Regression</td>\n",
       "      <td>0.8720</td>\n",
       "      <td>0.8374</td>\n",
       "      <td>0.8374</td>\n",
       "      <td>0.8374</td>\n",
       "    </tr>\n",
       "    <tr>\n",
       "      <th>1</th>\n",
       "      <td>Decision Tree</td>\n",
       "      <td>0.9901</td>\n",
       "      <td>0.9296</td>\n",
       "      <td>0.9296</td>\n",
       "      <td>0.9296</td>\n",
       "    </tr>\n",
       "    <tr>\n",
       "      <th>2</th>\n",
       "      <td>Random Forest</td>\n",
       "      <td>0.9979</td>\n",
       "      <td>0.9472</td>\n",
       "      <td>0.9472</td>\n",
       "      <td>0.9472</td>\n",
       "    </tr>\n",
       "    <tr>\n",
       "      <th>3</th>\n",
       "      <td>Addaboost</td>\n",
       "      <td>0.4841</td>\n",
       "      <td>0.4751</td>\n",
       "      <td>0.4751</td>\n",
       "      <td>0.4751</td>\n",
       "    </tr>\n",
       "    <tr>\n",
       "      <th>4</th>\n",
       "      <td>Gradient Boosting</td>\n",
       "      <td>0.8565</td>\n",
       "      <td>0.8225</td>\n",
       "      <td>0.8225</td>\n",
       "      <td>0.8225</td>\n",
       "    </tr>\n",
       "    <tr>\n",
       "      <th>5</th>\n",
       "      <td>Extreme Gradient Boosting</td>\n",
       "      <td>0.9999</td>\n",
       "      <td>0.9556</td>\n",
       "      <td>0.9556</td>\n",
       "      <td>0.9556</td>\n",
       "    </tr>\n",
       "    <tr>\n",
       "      <th>6</th>\n",
       "      <td>Light Gradient Boosting</td>\n",
       "      <td>0.9877</td>\n",
       "      <td>0.9414</td>\n",
       "      <td>0.9414</td>\n",
       "      <td>0.9414</td>\n",
       "    </tr>\n",
       "    <tr>\n",
       "      <th>7</th>\n",
       "      <td>K-Nearest Neighbor</td>\n",
       "      <td>0.9155</td>\n",
       "      <td>0.8528</td>\n",
       "      <td>0.8528</td>\n",
       "      <td>0.8528</td>\n",
       "    </tr>\n",
       "  </tbody>\n",
       "</table>\n",
       "</div>"
      ],
      "text/plain": [
       "                      Models  Training Accuracy  Test Accuracy  \\\n",
       "0        Logistic Regression             0.8720         0.8374   \n",
       "1              Decision Tree             0.9901         0.9296   \n",
       "2              Random Forest             0.9979         0.9472   \n",
       "3                  Addaboost             0.4841         0.4751   \n",
       "4          Gradient Boosting             0.8565         0.8225   \n",
       "5  Extreme Gradient Boosting             0.9999         0.9556   \n",
       "6    Light Gradient Boosting             0.9877         0.9414   \n",
       "7         K-Nearest Neighbor             0.9155         0.8528   \n",
       "\n",
       "   Precision Score  Recall Score  \n",
       "0           0.8374        0.8374  \n",
       "1           0.9296        0.9296  \n",
       "2           0.9472        0.9472  \n",
       "3           0.4751        0.4751  \n",
       "4           0.8225        0.8225  \n",
       "5           0.9556        0.9556  \n",
       "6           0.9414        0.9414  \n",
       "7           0.8528        0.8528  "
      ]
     },
     "execution_count": 72,
     "metadata": {},
     "output_type": "execute_result"
    }
   ],
   "source": [
    "result_df = pd.DataFrame({'Models':['Logistic Regression','Decision Tree','Random Forest','Addaboost','Gradient Boosting','Extreme Gradient Boosting','Light Gradient Boosting','K-Nearest Neighbor'],\n",
    "                          'Training Accuracy':[0.872,0.9901,0.9979,0.4841,0.8565,0.9999,0.9877,0.9155],\n",
    "                          'Test Accuracy':[0.8374,0.9296,0.9472,0.4751,0.8225,0.9556,0.9414,0.8528],\n",
    "                          'Precision Score':[0.8374,0.9296,0.9472,0.4751,0.8225,0.9556,0.9414,0.8528],\n",
    "                          'Recall Score':[0.8374,0.9296,0.9472,0.4751,0.8225,0.9556,0.9414,0.8528]})\n",
    "result_df"
   ]
  },
  {
   "cell_type": "code",
   "execution_count": 73,
   "id": "8bdcdad7",
   "metadata": {},
   "outputs": [
    {
     "data": {
      "text/html": [
       "<div>\n",
       "<style scoped>\n",
       "    .dataframe tbody tr th:only-of-type {\n",
       "        vertical-align: middle;\n",
       "    }\n",
       "\n",
       "    .dataframe tbody tr th {\n",
       "        vertical-align: top;\n",
       "    }\n",
       "\n",
       "    .dataframe thead th {\n",
       "        text-align: right;\n",
       "    }\n",
       "</style>\n",
       "<table border=\"1\" class=\"dataframe\">\n",
       "  <thead>\n",
       "    <tr style=\"text-align: right;\">\n",
       "      <th></th>\n",
       "      <th>Models</th>\n",
       "      <th>Training Accuracy</th>\n",
       "      <th>Test Accuracy</th>\n",
       "      <th>Precision Score</th>\n",
       "      <th>Recall Score</th>\n",
       "    </tr>\n",
       "  </thead>\n",
       "  <tbody>\n",
       "    <tr>\n",
       "      <th>5</th>\n",
       "      <td>Extreme Gradient Boosting</td>\n",
       "      <td>0.9999</td>\n",
       "      <td>0.9556</td>\n",
       "      <td>0.9556</td>\n",
       "      <td>0.9556</td>\n",
       "    </tr>\n",
       "    <tr>\n",
       "      <th>2</th>\n",
       "      <td>Random Forest</td>\n",
       "      <td>0.9979</td>\n",
       "      <td>0.9472</td>\n",
       "      <td>0.9472</td>\n",
       "      <td>0.9472</td>\n",
       "    </tr>\n",
       "    <tr>\n",
       "      <th>6</th>\n",
       "      <td>Light Gradient Boosting</td>\n",
       "      <td>0.9877</td>\n",
       "      <td>0.9414</td>\n",
       "      <td>0.9414</td>\n",
       "      <td>0.9414</td>\n",
       "    </tr>\n",
       "    <tr>\n",
       "      <th>1</th>\n",
       "      <td>Decision Tree</td>\n",
       "      <td>0.9901</td>\n",
       "      <td>0.9296</td>\n",
       "      <td>0.9296</td>\n",
       "      <td>0.9296</td>\n",
       "    </tr>\n",
       "    <tr>\n",
       "      <th>7</th>\n",
       "      <td>K-Nearest Neighbor</td>\n",
       "      <td>0.9155</td>\n",
       "      <td>0.8528</td>\n",
       "      <td>0.8528</td>\n",
       "      <td>0.8528</td>\n",
       "    </tr>\n",
       "    <tr>\n",
       "      <th>0</th>\n",
       "      <td>Logistic Regression</td>\n",
       "      <td>0.8720</td>\n",
       "      <td>0.8374</td>\n",
       "      <td>0.8374</td>\n",
       "      <td>0.8374</td>\n",
       "    </tr>\n",
       "    <tr>\n",
       "      <th>4</th>\n",
       "      <td>Gradient Boosting</td>\n",
       "      <td>0.8565</td>\n",
       "      <td>0.8225</td>\n",
       "      <td>0.8225</td>\n",
       "      <td>0.8225</td>\n",
       "    </tr>\n",
       "    <tr>\n",
       "      <th>3</th>\n",
       "      <td>Addaboost</td>\n",
       "      <td>0.4841</td>\n",
       "      <td>0.4751</td>\n",
       "      <td>0.4751</td>\n",
       "      <td>0.4751</td>\n",
       "    </tr>\n",
       "  </tbody>\n",
       "</table>\n",
       "</div>"
      ],
      "text/plain": [
       "                      Models  Training Accuracy  Test Accuracy  \\\n",
       "5  Extreme Gradient Boosting             0.9999         0.9556   \n",
       "2              Random Forest             0.9979         0.9472   \n",
       "6    Light Gradient Boosting             0.9877         0.9414   \n",
       "1              Decision Tree             0.9901         0.9296   \n",
       "7         K-Nearest Neighbor             0.9155         0.8528   \n",
       "0        Logistic Regression             0.8720         0.8374   \n",
       "4          Gradient Boosting             0.8565         0.8225   \n",
       "3                  Addaboost             0.4841         0.4751   \n",
       "\n",
       "   Precision Score  Recall Score  \n",
       "5           0.9556        0.9556  \n",
       "2           0.9472        0.9472  \n",
       "6           0.9414        0.9414  \n",
       "1           0.9296        0.9296  \n",
       "7           0.8528        0.8528  \n",
       "0           0.8374        0.8374  \n",
       "4           0.8225        0.8225  \n",
       "3           0.4751        0.4751  "
      ]
     },
     "execution_count": 73,
     "metadata": {},
     "output_type": "execute_result"
    }
   ],
   "source": [
    "result_df = result_df.sort_values(by='Test Accuracy',ascending=False)\n",
    "result_df"
   ]
  },
  {
   "cell_type": "markdown",
   "id": "088b7bd5",
   "metadata": {},
   "source": [
    "From above dataframe its clear that for XGBoost we got better accuracy as well as precision and recall score."
   ]
  },
  {
   "cell_type": "code",
   "execution_count": null,
   "id": "334c9e8d",
   "metadata": {},
   "outputs": [],
   "source": []
  },
  {
   "cell_type": "code",
   "execution_count": null,
   "id": "3274744a",
   "metadata": {},
   "outputs": [],
   "source": []
  },
  {
   "cell_type": "code",
   "execution_count": null,
   "id": "2f565b6a",
   "metadata": {},
   "outputs": [],
   "source": []
  },
  {
   "cell_type": "code",
   "execution_count": null,
   "id": "2a05e88a",
   "metadata": {},
   "outputs": [],
   "source": []
  },
  {
   "cell_type": "code",
   "execution_count": null,
   "id": "e960864a",
   "metadata": {},
   "outputs": [],
   "source": []
  }
 ],
 "metadata": {
  "kernelspec": {
   "display_name": "Python 3 (ipykernel)",
   "language": "python",
   "name": "python3"
  },
  "language_info": {
   "codemirror_mode": {
    "name": "ipython",
    "version": 3
   },
   "file_extension": ".py",
   "mimetype": "text/x-python",
   "name": "python",
   "nbconvert_exporter": "python",
   "pygments_lexer": "ipython3",
   "version": "3.9.12"
  }
 },
 "nbformat": 4,
 "nbformat_minor": 5
}
